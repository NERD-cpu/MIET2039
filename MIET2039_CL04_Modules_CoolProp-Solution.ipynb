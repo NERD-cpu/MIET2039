{
 "cells": [
  {
   "cell_type": "markdown",
   "metadata": {
    "collapsed": false
   },
   "source": [
    "<p style=\"color:#4799ff;\">EXERCISE 4.1</p>\n",
    "* Open up Notepad or even better a colour coded notepad program such as notepad ++ or ‘programmers notepad’. \n",
    "* Let’s define 3-functions inside the module. From week 1, do you remember how to write functions? You can make any functions you like. If you're stuck about making some functions, here's a sample of some.\n",
    "<pre  style=\"color:#B22222;\">\n",
    "def Re(U,D,rho,mu):\n",
    "   Re = U*D*rho/mu\n",
    "   return (Re)\n",
    "</pre>\n",
    "<pre  style=\"color:#B22222;\">\n",
    "def htc(Nu, L, k):\n",
    "   h = Nu*k/L\n",
    "   return (h)\n",
    "</pre>\n",
    "<pre  style=\"color:#B22222;\">\n",
    "def speak():\n",
    "    import random\n",
    "    nouns = ('The car', 'The bee','The cat','The dog')\n",
    "    verbs = ('moves’,'flies’,'sat','barks') \n",
    "    adv = ('quickly.', 'swiftly.', 'elegantly.', 'merrily.')\n",
    "    num = random.randrange(0,4)\n",
    "    print (nouns[num] + ' ' + verbs[num] + ' ' + adv[num])\n",
    "</pre>\n",
    "\n",
    "* Save the file with any name you like e.g. ‘myStuff.py’\n",
    "* Save the file to the location WinPython-64bit-3.4.4.2\\python-3.4.4.amd64\\Lib"
   ]
  },
  {
   "cell_type": "markdown",
   "metadata": {
    "collapsed": false
   },
   "source": [
    "<p style=\"color:#4799ff;\">EXERCISE 4.2</p>\n",
    "* Use your saved python file by using the import command\n",
    "* you can try the different import command methods\n",
    "* \"import moduleName\"\n",
    "* \"import moduleName as whateverAlias\"\n",
    "* \"from moduleName import oneFunction\""
   ]
  },
  {
   "cell_type": "code",
   "execution_count": null,
   "metadata": {
    "collapsed": false
   },
   "outputs": [],
   "source": [
    "import myStuff as ms\n",
    "ms.speak()"
   ]
  },
  {
   "cell_type": "markdown",
   "metadata": {},
   "source": [
    "<p style=\"color:#4799ff;\">EXERCISE 4.3</p>\n",
    "* Using the command prompt window install CoolProp module (if unsure, see lecture slides for more info)"
   ]
  },
  {
   "cell_type": "markdown",
   "metadata": {},
   "source": [
    "<p style=\"color:#4799ff;\">EXERCISE 4.4</p>\n",
    "A steam cycle for water undergoes the following process:<br>\n",
    "<img src=\"img/water-steam-ph-cycle.png\" width=\"700px\" align=\"left\">\n",
    "<br clear=\"all\"/>\n",
    "* T1 is the temperature of the water at liquid saturation at 2MPa\n",
    "* T1 → T2 is a throttling expansion valve which is an isenthalpic process. The pressure drops from 2MPa (liquid) to 0.2MPa (mixture)\n",
    "* T2 → T3 Heat energy is absorbed by the heat exchanger evaporator until it reaches a superheated temperature of T3 = 150<sup>o</sup>C\n",
    "* T3 → T4 A compressor increases the pressure from 0.2MPa to 2MPa in an isentropic process.\n",
    "* T5 → T1 The energy is released to the environment and the superheat condenses in the heat exchanger until it reaches saturation point, and the cycle repeats.\n",
    "* Use CoolProp to obtain its h, P, T, s values at all the points.\n",
    "* you can use the following import method \n",
    "<pre>from CoolProp.CoolProp import PropsSI</pre>\n"
   ]
  },
  {
   "cell_type": "code",
   "execution_count": null,
   "metadata": {
    "collapsed": false
   },
   "outputs": [],
   "source": [
    "from CoolProp.CoolProp import PropsSI\n",
    "\n",
    "# Condenser EXIT\n",
    "t1 = PropsSI('T','P', 2000000, 'Q', 0, 'water')\n",
    "h1 = PropsSI('H','P', 2000000, 'Q', 0, 'water')\n",
    "\n",
    "print('=========== 1 ========================')\n",
    "print('The liquid saturation temperature exiting the condenser is %.2f' % t1, 'Kelvin') #temperature is in Kelvin!!\n",
    "print('The enthalpy at the condenser exit is %.0f' % h1, 'J/kg.K') \n",
    "print('======================================= \\n')\n",
    "\n",
    "# After throttling/expansion valve\n",
    "h2 = h1\n",
    "t2 = PropsSI('T','P', 200000, 'H', h2, 'water')\n",
    "q2 = PropsSI('Q','P', 200000, 'H', h2, 'water')\n",
    "print('=========== 2 =========================')\n",
    "print('The liquid temperature exiting the throttle is %.2f' % t2, 'Kelvin') #temperature is in Kelvin!!\n",
    "print('The enthalpy at the throttle exit is %.0f' % h2, 'J/kg.K') \n",
    "print('The quality of the mixture is %.2f' % q2) \n",
    "print('======================================= \\n')\n",
    "\n",
    "# After the evaporator\n",
    "t3 = 150+273.15\n",
    "h3 = PropsSI('H','P', 200000, 'T', t3, 'water')\n",
    "s3 = PropsSI('S','P', 200000, 'T', t3, 'water')\n",
    "print('=========== 3 =========================')\n",
    "print('The enthalpy at the evaporator exit is %.0f' % h3, 'J/kg.K') \n",
    "print('The entropy at the evaporator exit is %.2f' % s3) \n",
    "print('======================================= \\n')\n",
    "\n",
    "# After the condenser\n",
    "s4 = s3\n",
    "t4 = PropsSI('T','P', 2000000, 'S', s4, 'water')\n",
    "h4 = PropsSI('H','P', 2000000, 'S', s4, 'water')\n",
    "print('=========== 4 =========================')\n",
    "print('The temperature at the compressor exit is %.2f' % t4, 'Kelvin') \n",
    "print('The enthalpy at the compressor exit is %.0f' % h4, 'J/kg.K') \n",
    "print('======================================= \\n')"
   ]
  },
  {
   "cell_type": "markdown",
   "metadata": {},
   "source": [
    "<p style=\"color:#4799ff;\">EXERCISE 4.5</p>\n",
    "1. We saw earlier that to condition an indoor living room a 6.5 kW cooling capacity would be sufficient. What mass flow rate is needed to pass through the thermodynamic cycle to achieve the cooling capacity?\n",
    "\n",
    "2. What is its COP?\n",
    "(note this is a Carnot cycle - with ideal compression process)"
   ]
  },
  {
   "cell_type": "code",
   "execution_count": null,
   "metadata": {
    "collapsed": false
   },
   "outputs": [],
   "source": [
    "# change in enthalpy across evaporator\n",
    "dhEvap = h3-h2\n",
    "\n",
    "# mass flow rate (mfr)\n",
    "coolCap = 6.5*1000    # convert to Watts\n",
    "mfr = coolCap / dhEvap\n",
    "print('The mass flow rate required is %.4f' % mfr, 'kg/s')\n",
    "\n",
    "# COP is defined as change in h in evaporator to change in h in compressor  (heat / Work input)\n",
    "dhComp = h4 - h3\n",
    "COP = dhEvap / dhComp\n",
    "print('The COP is %.2f' % COP)\n",
    "print('This means there is  %.2f' % COP, 'kW of cooling power for every kW of power consumed by the pump\\'s compressor')\n",
    "\n",
    "print('As a comparative example, the maximum theoretical efficiency of an air conditioning system that cools a room to 23°C for \\\n",
    "an outside air temperature of 32°C produces a COP of 32.9')"
   ]
  }
 ],
 "metadata": {
  "kernelspec": {
   "display_name": "Python 3",
   "language": "python",
   "name": "python3"
  },
  "language_info": {
   "codemirror_mode": {
    "name": "ipython",
    "version": 3
   },
   "file_extension": ".py",
   "mimetype": "text/x-python",
   "name": "python",
   "nbconvert_exporter": "python",
   "pygments_lexer": "ipython3",
   "version": "3.5.1"
  }
 },
 "nbformat": 4,
 "nbformat_minor": 0
}
