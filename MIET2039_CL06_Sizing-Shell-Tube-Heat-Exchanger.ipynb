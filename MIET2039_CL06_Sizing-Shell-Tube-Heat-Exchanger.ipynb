{
 "cells": [
  {
   "cell_type": "markdown",
   "metadata": {
    "collapsed": false
   },
   "source": [
    "<h3 style=\"color:#7171C6;\"> Week 06 - Sizing a shell and tube heat exchanger </h3>\n",
    "\n",
    "Water at 15<sup>o</sup>C with a mass flow rate of 8 kg/s is available to cool hot oil from 90<sup>o</sup>C to 30<sup>o</sup>C. The oil mass flow rate is 5 kg/s. A shell-and-tube heat exchanger with one-shell pass and four tube-passes is proposed for this process. Using uniform cp values of 2.5 kJ/(kg<sup>o</sup>C) and 4.2 kJ/(kg<sup>o</sup>C) for oil and water, respectively, and assuming an overall heat transfer coefficient of 250 W/(m<sup>2</sup>.<sup>o</sup>C) for the heat exchanger\n",
    "\n",
    "<img src=\"img\\1shell-2tube-heatexchanger.png\" width=\"280px\">\n",
    "\n",
    "<em>\n",
    "1. determine the surface area of the heat exchanger, and therefore a combination in the diameter of the pipe with its horizontal length (max. length of 20m due to limited space) per tube-pass.\n",
    "2. if more power is used to pump the water through more rapidly, a greater cooling effect will occur. Repeat by looking at the effect of the mass flow rate at 10kg/s, 20kg/s, 30kg/s on the size of the heat exchanger. The information will help if there are space constraints in installing the heat exchanger\n",
    "</em>"
   ]
  },
  {
   "cell_type": "code",
   "execution_count": null,
   "metadata": {
    "collapsed": false
   },
   "outputs": [],
   "source": [
    "#############################\n",
    "# Define the known conditions\n",
    "#############################\n",
    "tColdIn = \n",
    "tHotIn = \n",
    "tHotOut = \n",
    "mfrWater = \n",
    "mfrOil = \n",
    "CpOil = \n",
    "CpWater = \n",
    "U = \n",
    "\n",
    "\n",
    "#############################\n",
    "# Using the specific heat and mass flow rate data calculate the heat capacity rates \n",
    "# Cc and Ch\n",
    "#############################\n",
    "Cc =  \n",
    "Ch = \n",
    "\n",
    "#############################\n",
    "# Calculate the heat flux for the hot fluid (since these temperatures are known)\n",
    "#############################\n",
    "q = \n",
    "\n",
    "\n",
    "#############################\n",
    "# The heat flux for the hot fluid must equal the heat flux for the cold fluid.\n",
    "# Use this relationship to calculate the outlet cold temperature\n",
    "#############################\n",
    "tColdOut = \n"
   ]
  },
  {
   "cell_type": "markdown",
   "metadata": {},
   "source": [
    "Now that you have determined all four temperatures the LMTD method can be used which involves determining the correction factor. When using a formula to calculate the correction factor the dimensionless P, and R terms are defined as:\n",
    "\n",
    "P = (tColdOut - tColdIn) / (tHotIn - tColdIn)\n",
    "\n",
    "R = (tHotIn - tHotOut) / (tColdOut - tColdIn)"
   ]
  },
  {
   "cell_type": "code",
   "execution_count": null,
   "metadata": {
    "collapsed": false
   },
   "outputs": [],
   "source": [
    "# P, R definitions\n",
    "#############################\n",
    "P = (tColdOut - tColdIn) / (tHotIn - tColdIn)\n",
    "R = (tHotIn - tHotOut) / (tColdOut - tColdIn)\n",
    "\n",
    "\n",
    "# The correction factor equations for 1-shell 2n-tube passes is given below in a\n",
    "# function F12\n",
    "import math\n",
    "def F12(P,R):\n",
    "    s = math.sqrt(1+R**2)\n",
    "    a = s/(1-R)*math.log((1-R*P)/(1-P))\n",
    "    b = math.log((2-P*(1+R-s))/(2-P*(1+R+s)))\n",
    "    f = a/b\n",
    "    return(f)\n",
    "\n",
    "# Similary the correction factor equations for 2-shell 2n-tube passes is given \n",
    "# below in a # function F24\n",
    "def F24(P,R):\n",
    "    s = math.sqrt(1+R**2)\n",
    "    ss = math.sqrt((1-P)*(1-P*R))\n",
    "    a = s/(2*(R-1))*math.log((1-P)/(1-P*R))\n",
    "    numer = 2/P - 1 - R + 2/P*ss + s\n",
    "    denom = 2/P - 1 - R + 2/P*ss - s\n",
    "    b = math.log(numer/denom)\n",
    "    f = a/b\n",
    "    return(f)\n",
    "\n",
    "#############################\n",
    "# Simply call either function based on the number of shell passes to obtain\n",
    "# the correction factor\n",
    "f = \n",
    "#############################\n",
    "\n",
    "\n",
    "\n",
    "\n",
    "\n",
    "#############################\n",
    "# Determine the heat exchanger area required using q = UA*LMTD \n",
    "# (you have to calculate LMTD first)\n",
    "\n",
    "#############################\n",
    "\n",
    "\n",
    "\n",
    "\n",
    "#############################\n",
    "# plot the diameter of pipe vs length of pipe from 1m to 20m length per pass\n",
    "# import our favourite modules numpy and matplotlib\n",
    "#############################\n",
    "import numpy as np\n",
    "from matplotlib import pyplot as plt\n",
    "%matplotlib inline  # use this command to plot the graph inside python notebook\n",
    "\n",
    "\n",
    "\n",
    "# what does the plot tell us? "
   ]
  },
  {
   "cell_type": "markdown",
   "metadata": {
    "collapsed": false
   },
   "source": [
    "We need to repeat the analysis with the mass flow rate changing.\n",
    "A simple way to do this is to simply use a for loop to repeat the calculations iterating through different mass flow rates. We would also only need to recalculate the equations that are affected by the mass flow rate."
   ]
  },
  {
   "cell_type": "code",
   "execution_count": null,
   "metadata": {
    "collapsed": false
   },
   "outputs": [],
   "source": [
    "# Set up a for loop to loop over the mass flow rate change. During each set of\n",
    "# calculations, you should store the data and plot the data at the same time.\n",
    "# Use numpy.arange(start, stop, step) function to create a list of mass flow rates\n",
    "# e.g. numpy.arange(10, 60, 10) will create an array([10, 20, 30, 40, 50])\n",
    "# You can print multiple plots by plotting each set of results at the end of each\n",
    "# iteration\n",
    "\n"
   ]
  }
 ],
 "metadata": {
  "kernelspec": {
   "display_name": "Python 3",
   "language": "python",
   "name": "python3"
  },
  "language_info": {
   "codemirror_mode": {
    "name": "ipython",
    "version": 3
   },
   "file_extension": ".py",
   "mimetype": "text/x-python",
   "name": "python",
   "nbconvert_exporter": "python",
   "pygments_lexer": "ipython3",
   "version": "3.4.4"
  }
 },
 "nbformat": 4,
 "nbformat_minor": 0
}
