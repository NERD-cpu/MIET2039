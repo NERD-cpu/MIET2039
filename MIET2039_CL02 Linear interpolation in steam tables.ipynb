{
 "cells": [
  {
   "cell_type": "markdown",
   "metadata": {
    "collapsed": false
   },
   "source": [
    "<h3>Linear Interpolation for Steam Tables</h3>"
   ]
  },
  {
   "cell_type": "markdown",
   "metadata": {},
   "source": [
    "* In today's class we're going to use both lists and arrays. \n",
    "* There is a subtle difference so be aware of it. \n",
    "* Lists differ from arrays in that arrays are treated as matrices and therefore matrix operations can be applied to them."
   ]
  },
  {
   "cell_type": "markdown",
   "metadata": {},
   "source": [
    "<h4>Single Linear Interpolation</h4>\n",
    "* Linear interpolation is a way to fill in the missing data in tables. As an example, Let us consider two points on the p-h diagram for water below.\n",
    "* <strong>Point 1 is at T = 111-degrees Celcius for and P = 0.01MPa</strong>. For this point we will do a single interpolation.\n",
    "* Analysis of the compression cycle begins with an isentropic assumption. We note that Point 1 is very close to the entropy line equal to 8.5\n",
    "* For an isentropic compression we follow the entropy line up until we reach a new pressure created the compression.\n",
    "* <strong>Point 2 is at P= 0.02MPa and entropy is s=8.5</strong>\n",
    "\n",
    "<img src=\"img/CL02-steam.png\" style=\"width:785px;height:556px;\" align=\"left\">"
   ]
  },
  {
   "cell_type": "markdown",
   "metadata": {
    "collapsed": true
   },
   "source": [
    "<p style=\"color:#4799ff;\">EXERCISE 2.1</p>\n",
    "<p>Write a function to solve a single linear interpolation. This is simply</p>\n",
    "<p>$$ y = y_i + \\left(\\frac{x - x_i}{x_f - x_i}\\right)\\times \\left(y_f - y_i\\right) $$</p>\n"
   ]
  },
  {
   "cell_type": "code",
   "execution_count": 37,
   "metadata": {
    "collapsed": false
   },
   "outputs": [],
   "source": []
  },
  {
   "cell_type": "markdown",
   "metadata": {},
   "source": [
    "<p>Test your function using the data in the following table:<br>\n",
    "Determine the:\n",
    "* enthalpy, h and \n",
    "* entropy, s\n",
    "\n",
    "at T = 120 degrees celcius, and print out its values on the screen</p>\n",
    "<img src=\"img/satTable.png\" style=\"width:305px;height:154px;\" align=\"left\">"
   ]
  },
  {
   "cell_type": "code",
   "execution_count": null,
   "metadata": {
    "collapsed": false
   },
   "outputs": [],
   "source": []
  },
  {
   "cell_type": "markdown",
   "metadata": {},
   "source": [
    "<p style=\"color:#4799ff;\">EXERCISE 2.2</p>\n",
    "Now we understand how interpolation works, we can use a built-in function with the numpy function interp() <br>\n",
    "We're also going to use list comprehension to create lists automatically. This is simply writing a mathematical function f(x). Say you want to rewrite the temperature list from 50 to 2000 incrementing by 50. The mathematical function is\n",
    "$$f(x) = 50+50x \\;\\;\\;\\;\\; \\textrm{for } x[0,3]$$ \n",
    "\n",
    "* import the  numpy library as np\n",
    "* create a list of temperature values using list comprehension\n",
    "* convert the list to a numpy array by np.array\n",
    "* create a np.array for enthalpy, and entropy by manually inputting the four values for each.\n",
    "* use the numpy interp() function, which has the following syntax\n",
    "* np.interp(x, xArray, yArray)\n",
    "* e.g. np.interp(111, temperature, enthalpy) will interpolate both arrays but for the temperature value at T=111\n"
   ]
  },
  {
   "cell_type": "code",
   "execution_count": null,
   "metadata": {
    "collapsed": false
   },
   "outputs": [],
   "source": []
  },
  {
   "cell_type": "markdown",
   "metadata": {
    "collapsed": false
   },
   "source": [
    "<p style=\"color:#4799ff;\">EXERCISE 2.3</p>\n",
    "We can plot two variables simply by importing the plotting library with the command:\n",
    "    \n",
    "<pre> import matplotlib.pyplot as plt</pre>\n",
    "\n",
    "To plot the syntax is:\n",
    "<pre>\n",
    "plt.plot(temperature, enthalpy)\n",
    "</pre>"
   ]
  },
  {
   "cell_type": "markdown",
   "metadata": {},
   "source": [
    "We're going to do this using numpy library so you can choose whichever is easiest and best for you"
   ]
  },
  {
   "cell_type": "markdown",
   "metadata": {
    "collapsed": true
   },
   "source": [
    "<h4>Double Linear Interpolation</h4>\n",
    "After isentropic compression we find that the new point is at P = 0.02MPa and s = 8.5 (Point 2)\n",
    "\n",
    "Superheated steam tables are given in blocks defined by pressure. For example take a look at <br>\n",
    "http://www.cfdresearch.com/miet2039/thermoTables.php <br>\n",
    "and look at the superheated section (tables suffixed with SH) and shown belo <br>\n",
    "<p><img src=\"img/CL02-doubleInt.png\" style=\"width:570px;height:242px;\" align=\"left\"></p>\n",
    " <br clear=\"all\"/>\n"
   ]
  },
  {
   "cell_type": "markdown",
   "metadata": {
    "collapsed": true
   },
   "source": [
    "<p style=\"color:#4799ff;\">EXERCISE 2.4</p>\n",
    "<p>We need to find what our new temperature and enthalpy will be after the superheated steam has been compressed to P=0.02MPa. The table above shows that it lies somewhere in between T=100 to T=300 for the pressure values of P=0.01MPa to P=0.05MPa. Therefore we'll need to collect the temperature and enthalpy values that form a block/rectangle around the entropy and pressure point of P=0.02MPa and s=8.5\n",
    "</p>\n",
    "\n",
    "* create numpy arrays for the temperature range, h and s at P=0.01MPa, and h and s at P=0.05MPa\n",
    "* create an array for the pressure values to interpolate between e.g. P = 0.01MPa, P = 0.02MPa, P = 0.05MPa\n",
    "* create the calculations and use np.interp() to solve for temperature and enthalpy at P=0.02MPa"
   ]
  },
  {
   "cell_type": "code",
   "execution_count": null,
   "metadata": {
    "collapsed": false
   },
   "outputs": [],
   "source": []
  },
  {
   "cell_type": "markdown",
   "metadata": {
    "collapsed": false
   },
   "source": [
    "* plot temperature (y-axis) vs entropy (x-axis)"
   ]
  },
  {
   "cell_type": "code",
   "execution_count": null,
   "metadata": {
    "collapsed": true
   },
   "outputs": [],
   "source": []
  },
  {
   "cell_type": "markdown",
   "metadata": {
    "collapsed": true
   },
   "source": [
    "* plot enthalpy (y-axis) vs entropy (x-axis)"
   ]
  },
  {
   "cell_type": "code",
   "execution_count": null,
   "metadata": {
    "collapsed": true
   },
   "outputs": [],
   "source": []
  },
  {
   "cell_type": "markdown",
   "metadata": {},
   "source": [
    "* if you have time you can convert it into a function"
   ]
  },
  {
   "cell_type": "code",
   "execution_count": null,
   "metadata": {
    "collapsed": true
   },
   "outputs": [],
   "source": []
  }
 ],
 "metadata": {
  "kernelspec": {
   "display_name": "Python 3",
   "language": "python",
   "name": "python3"
  },
  "language_info": {
   "codemirror_mode": {
    "name": "ipython",
    "version": 3
   },
   "file_extension": ".py",
   "mimetype": "text/x-python",
   "name": "python",
   "nbconvert_exporter": "python",
   "pygments_lexer": "ipython3",
   "version": "3.4.4"
  }
 },
 "nbformat": 4,
 "nbformat_minor": 0
}
