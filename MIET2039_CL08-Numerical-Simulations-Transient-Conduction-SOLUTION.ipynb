{
 "cells": [
  {
   "cell_type": "markdown",
   "metadata": {
    "collapsed": false
   },
   "source": [
    "<h3 style=\"color:navy;\">MIET2039_CL08-Numerical-Simulations-of-Fins</h3>"
   ]
  },
  {
   "cell_type": "markdown",
   "metadata": {},
   "source": [
    "Transient 1D equation:<br>\n",
    ":================================================\n",
    "$$ \\frac{\\partial ^2 T}{\\partial x^2}  = \\frac{1}{\\alpha} \\frac{\\partial T}{\\partial t} $$\n",
    "\n",
    "Discretize the transient term:<br>\n",
    ":================================================\n",
    "$$ \\frac{\\partial T}{\\partial t} = \\frac{T_i^{n+1} - T_i^n} {\\Delta t}  $$ \n",
    "* i: index of grid in space;\n",
    "* n: index of grid in time;\n",
    "\n",
    ":================================================<br>\n",
    "Discretise the diffusion term (EXPLICIT method):\n",
    ":================================================\n",
    "<img src=\"img/FD-explicit-stencil.png\" width=\"350px\">\n",
    "\n",
    "$$\\frac{\\partial^2 T}{\\partial x^2} = \\frac{T_{i+1}^n-2T_i^n+T_{i-1}^n}{\\Delta x^2 }$$\n",
    "\n",
    "Put the two terms together and re-arrange the equation so it is $T_i^{n+1} = ....$\n",
    "\n",
    "\\begin{align}\n",
    "\\frac{T_{i+1}^n-2T_i^n+T_{i-1}^n}{\\Delta x^2 } &= \\frac{T_i^{n+1} - T_i^n} {\\alpha \\Delta t} \\\\\n",
    " T_i^{n+1} &= T_i^{n}+\\frac{\\alpha  \\Delta t}{\\Delta x^2}(T_{i+1}^n-2T_i^n + T_{i-1}^n) \n",
    "\\end{align}\n",
    "\n",
    "\n",
    ":================================================<br>\n",
    "We can also discretise the diffusion term using the IMPLICIT method:\n",
    ":================================================\n",
    "<img src=\"img/FD-implicit-stencil.png\" width=\"350px\">\n",
    "\n",
    "$$\\frac{\\partial^2 T}{\\partial x^2} = \\frac{T_{i+1}^{n+1}-2T_i^{n+1}+T_{i-1}^{n+1}}{\\Delta x^2 }$$\n",
    "\n",
    "Discretised equation using the implicit method:\n",
    "$$  T_i^{n+1} = T_i^{n}+\\frac{\\alpha  \\Delta t}{\\Delta x^2}(T_{i+1}^{n+1}-2T_i^{n+1} + T_{i-1}^{n+1}) $$\n",
    "\n",
    "\n",
    "We can re-write the equations using the 'mesh Fourier number'\n",
    "$$ \\tau = \\frac{\\alpha  \\Delta t}{\\Delta x^2} $$\n",
    "\n",
    "Explicit Method ======================<br>\n",
    "$$  T_i^{n+1} = T_i^{n}+\\tau(T_{i+1}^{n}-2T_i^{n} + T_{i-1}^{n}) $$\n",
    "\n",
    "Implicit Method ======================<br>\n",
    "$$  T_i^{n+1} = T_i^{n}+\\tau(T_{i+1}^{n+1}-2T_i^{n+1} + T_{i-1}^{n+1}) $$"
   ]
  },
  {
   "cell_type": "markdown",
   "metadata": {},
   "source": [
    "1D Model with heat flux on one wall\n",
    "\n",
    "Flux boundary\n",
    "$$T_i^{n+1} =  (1-\\tau)T_{i}^n + \\tau T_{i+1}^n + \\frac{\\tau\\dot{q}\\Delta x}{k}$$"
   ]
  },
  {
   "cell_type": "markdown",
   "metadata": {},
   "source": [
    "<h4 style=\"color:#7171C6;\">Exercise 8.1 1D transient solution using Explicit Time Discretisation</h4>\n",
    "An aluminium horizontal bar( $\\rho = 2700$kg/m3; $C_p = 900 $J/kgK ) of length 20cm has been heated to a uniform temperature of 100oC throughout the bar due to the left subjected to T(0) = 100$^\\circ$C. The right hand side is now set to a temperature of 10$^\\circ$C. Model the transient cooling effect on the temperature distribution and determine how long it takes to reach a steady state.  "
   ]
  },
  {
   "cell_type": "code",
   "execution_count": null,
   "metadata": {
    "collapsed": false
   },
   "outputs": [],
   "source": [
    "# load up  the modules we need\n",
    "import numpy as np\n",
    "import matplotlib.pyplot as plt\n",
    "import math\n",
    "%matplotlib inline\n",
    "\n",
    "# Define the material properties\n",
    "k = 237\n",
    "rho = 2300\n",
    "Cp = 900\n",
    "alpha = k/(rho*Cp)\n",
    "length = 0.2\n",
    "\n",
    "# Set the number of nodes\n",
    "nx = 21\n",
    "\n",
    "# Calculate the dx - careful here and remember the stability criterion\n",
    "dx = length/(nx-1)\n",
    "\n",
    "# Set your timesteps \n",
    "tSteps = 1000\n",
    "\n",
    "# set the time step size - careful here and remember the stability criterion\n",
    "dt = 0.4\n",
    "\n",
    "# calculate tau and check that it is below 0.5\n",
    "tau = alpha*dt/(dx*dx)\n",
    "print('Mesh Fourier Number is ', tau)\n",
    "\n",
    "# initialise the nodes to 100oC\n",
    "T = np.ones(nx) * 100\n",
    "\n",
    "# define the right boundary condition to 0oC\n",
    "T[-1]=0\n",
    "\n",
    "# we will use np.mod(a,b)==0 to plot every b time step\n",
    "plotEvery_n = 200\n",
    "\n",
    "# set a timer counter\n",
    "timeElapsed=0\n",
    "\n",
    "# create a x-axis using np.linspace to plot T against\n",
    "x=np.linspace(0,length,nx)\n",
    "\n",
    "#********************\n",
    "# ITERATION FOR LOOP\n",
    "#********************\n",
    "for n in range(tSteps):  #iterate through time\n",
    "    Tn = T.copy()      #copy the existing values of u into un\n",
    "    \n",
    "    # use another for loop to step through the nodes\n",
    "    for i in range(1,nx-1):\n",
    "        T[i] = Tn[i] + tau*(n[i+1]-2*Tn[i]+Tn[i-1])\n",
    "    \n",
    "    # increment timer count\n",
    "    timeElapsed += dt    \n",
    "    \n",
    "    # plot every n time steps\n",
    "    if np.mod(n, plotEvery_n) == 0:\n",
    "        plt.plot(x*100,T)\n",
    "\n",
    "#Plot details\n",
    "plt.xlabel('bar length(cm)')\n",
    "plt.ylabel('Temperature (oC)')\n",
    "plt.title('Temperature distribution')\n",
    "print('time elapsed is %0.4f' % timeElapsed, 'secs')\n",
    "\n",
    "# Discussion\n",
    "#1. Did you observe the effect when the mesh-fourier-number (tau) > 0.5?\n",
    "#2. We know that if the thermal conductivity is increased then the heat transfer\n",
    "#   rate increases. Re-run the simulations and see how long it takes to converge\n",
    "#   with different conductivities"
   ]
  },
  {
   "cell_type": "markdown",
   "metadata": {},
   "source": [
    "<h4 style=\"color:#7171C6;\">Exercise 8.2 2D transient solution using Explicit Time Discretisation</h4>\n",
    "A rectangular block of x = 20cm, and y = 40cm is subjected to fixed temperature boundary conditions of T_bottom = 100oC; T_top = 50; T_left = 80; and T_right = 60. If the initial internal body is at room temperature of Ti = 20oC, how long will it take to reach steady state?\n",
    "\n",
    "In this problem, the geometry and material property are given."
   ]
  },
  {
   "cell_type": "code",
   "execution_count": 42,
   "metadata": {
    "collapsed": false
   },
   "outputs": [
    {
     "name": "stdout",
     "output_type": "stream",
     "text": [
      "mesh fourier number is 0.1291\n"
     ]
    },
    {
     "data": {
      "image/png": "[encoded data removed]",
      "text/plain": [
       "<matplotlib.figure.Figure at 0x8146eb8>"
      ]
     },
     "metadata": {},
     "output_type": "display_data"
    },
    {
     "data": {
      "image/png": "[encoded data removed]",
      "text/plain": [
       "<matplotlib.figure.Figure at 0x7a19278>"
      ]
     },
     "metadata": {},
     "output_type": "display_data"
    },
    {
     "name": "stdout",
     "output_type": "stream",
     "text": [
      "time simulated is 500\n"
     ]
    }
   ],
   "source": [
    "# 2D Transient\n",
    "# Last week's study example ran a 2D problem using np.meshgrid\n",
    "\n",
    "import numpy\n",
    "from matplotlib import pyplot\n",
    "%matplotlib inline\n",
    "\n",
    "###variable declarations\n",
    "xLength = 0.2;   nx = 20;       dx = xLength/(nx-1)\n",
    "yLength = 0.4;   ny = 40;       dy = yLength/(ny-1)\n",
    "\n",
    "# in our discretization formulation we set dx = dy, \n",
    "# therefore our in this section we must set our mesh to dx = dy as well\n",
    "\n",
    "# define the thermal diffusivity alpha. some common values are given below\n",
    "# water = 0.143e-6; steel ; aluminium 9.7e−5; steel 4.2e−6; copper 1.11e−4\n",
    "alpha = 0.143e-4\n",
    "\n",
    "# set the time step - *** change this value and see its effect ***\n",
    "dt = 1\n",
    "\n",
    "# set the total number of time steps\n",
    "nt = 500\n",
    "\n",
    "# calculate tau and check that it is below 0.5\n",
    "tau = alpha*dt/dx**2  \n",
    "print('mesh fourier number is %0.4f' % tau)\n",
    "\n",
    "# meshgrid for 2D countour plot\n",
    "x = np.linspace(0,xLength,nx)\n",
    "y = np.linspace(0,yLength,ny)\n",
    "X,Y = np.meshgrid(x,y)\n",
    "\n",
    "# set initial temperature across the nodes to 5oC\n",
    "T = np.ones((ny,nx))*5 ##create a 1xn vector of 1's\n",
    "\n",
    "# set the temperature values at the boundaries\n",
    "T[0,:]=100\n",
    "T[-1,:]=50\n",
    "T[:,0]=80\n",
    "T[:,-1]=60\n",
    "\n",
    "# Plot the initial temperature profiles\n",
    "cp = plt.contourf(X, Y, T,50)\n",
    "plt.colorbar(cp)\n",
    "plt.title('Initial Conditions')\n",
    "plt.xlabel('x');     plt.ylabel('y')\n",
    "plt.axes().set_aspect('equal')\n",
    "plt.show()\n",
    "\n",
    "#******************\n",
    "# SOLVER FOR LOOP\n",
    "#******************\n",
    "for n in range(nt+1): \n",
    "    Tn = T.copy()\n",
    "    T[1:-1,1:-1]=Tn[1:-1,1:-1]+alpha*dt/dx**2*(Tn[1:-1,2:]-2*Tn[1:-1,1:-1]+Tn[1:-1,0:-2])+\\\n",
    "                                alpha*dt/dy**2*(Tn[2:,1:-1]-2*Tn[1:-1,1:-1]+Tn[0:-2,1:-1])\n",
    "    \n",
    "# Plot final solution\n",
    "cp = plt.contourf(X, Y, T,50)\n",
    "plt.colorbar(cp)\n",
    "plt.title('Final Conditions')\n",
    "plt.xlabel('x')\n",
    "plt.ylabel('y')\n",
    "plt.axes().set_aspect('equal')\n",
    "plt.show() \n",
    "print('time simulated is', nt*dt, 's')"
   ]
  }
 ],
 "metadata": {
  "kernelspec": {
   "display_name": "Python 3",
   "language": "python",
   "name": "python3"
  },
  "language_info": {
   "codemirror_mode": {
    "name": "ipython",
    "version": 3
   },
   "file_extension": ".py",
   "mimetype": "text/x-python",
   "name": "python",
   "nbconvert_exporter": "python",
   "pygments_lexer": "ipython3",
   "version": "3.4.4"
  }
 },
 "nbformat": 4,
 "nbformat_minor": 0
}
