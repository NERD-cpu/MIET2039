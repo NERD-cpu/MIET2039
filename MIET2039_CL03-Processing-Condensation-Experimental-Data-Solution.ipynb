{
 "cells": [
  {
   "cell_type": "markdown",
   "metadata": {
    "collapsed": false
   },
   "source": [
    "<h3 style=\"color:navy;\">MIET2039 Computer Lab 03 - Processing Condensation Experimental Data </h3>\n",
    "A condensation experimental test was performed and both film and dropwise condensation phenemonon was produced. A vertical plate is placed in a chamber filled with hot vapour. The vertical plate has cold water running through it at a given flow rate. This produces a plate surface temperature lower than the vapour saturation temperature. Heat is absorbed by the flowing water and its temperature change is caused by the condensation heat transfer.\n",
    "<img src=\"img/condensation-CL03.png\" width=\"500px\"/>\n",
    "\n",
    "We will relate the heat transfer gained by the colder fluid to the condensation heat transfer coefficient. In this experiment, the following data were measured:\n",
    "<em>\n",
    "* <span style=\"color:#CD5C5C\">Flowrate L/min (column 1)\n",
    "* <span style=\"color:#CD5C5C\">T<sub>in</sub> water temperature at inlet (column 2)\n",
    "* <span style=\"color:#CD5C5C\">T<sub>out</sub> water temperature at exit (column 3)\n",
    "* <span style=\"color:#CD5C5C\">T<sub>sat</sub> saturation temperature (column 4)\n",
    "* <span style=\"color:#CD5C5C\">T<sub>surf</sub> plate surface temperature (column 5) \n",
    "</em>\n",
    "#### Scripting for automating analysis:\n",
    "In experimental work large amounts of data sets are often gathered. Without the use of scripting tools a naive experimentalist would probably process each data file manually. If this data set happens to contain hundreds of files then this is a problem. In this session we look at ways to automate processing experimental. \n",
    "#### Some new python commands\n",
    "* We will use the <strong>glob</strong> module which helps us find files matching a specified pattern\n",
    "* We will use numpy arrays. Array dimensions need to be pre-defined before performing actions on it.\n",
    "* Our data files containing the experimental data have five columns and 3 to 5 rows of data\n",
    "* Our strategy is to read the contents of each file and store it into a numpy array using the append method\n",
    "* We initialize an empty array 0,5 with np.empty((0,5))"
   ]
  },
  {
   "cell_type": "markdown",
   "metadata": {},
   "source": [
    "<p style=\"color:#4799ff;\">EXERCISE 3.1</p>\n",
    "* import glob\n",
    "* find all files in your folder with the word drop in the filename and an extension .dat\n",
    "* store them in a list and then print the list out to make sure you have the correct files"
   ]
  },
  {
   "cell_type": "code",
   "execution_count": 38,
   "metadata": {
    "collapsed": false
   },
   "outputs": [
    {
     "name": "stdout",
     "output_type": "stream",
     "text": [
      "['dropwise_01.dat', 'dropwise_02.dat', 'dropwise_03.dat', 'dropwise_04.dat', 'dropwise_05.dat', 'dropwise_06.dat']\n"
     ]
    }
   ],
   "source": [
    "import glob\n",
    "fileList = glob.glob('drop*.dat')\n",
    "print(fileList)"
   ]
  },
  {
   "cell_type": "markdown",
   "metadata": {},
   "source": [
    "<p style=\"color:#4799ff;\">EXERCISE 3.2</p>\n",
    "* import numpy as np\n",
    "* create an empty array with dimensions 0x5\n",
    "* read data from a file by using <pre>np.loadtxt(filename, skiprows=x)</pre>\n",
    "* append the data that was read into the initialized array by using <pre>np.append(initArray, newData, axis=0)</pre>\n",
    "* print the new array to confirm that you have appended the data together"
   ]
  },
  {
   "cell_type": "code",
   "execution_count": 63,
   "metadata": {
    "collapsed": false
   },
   "outputs": [
    {
     "name": "stdout",
     "output_type": "stream",
     "text": [
      "[]\n",
      "[[  0.8   13.9   20.    71.4   66.6 ]\n",
      " [  0.8   13.9   26.    71.2   63.4 ]\n",
      " [  0.8   14.4   27.    71.1   62.1 ]\n",
      " [  0.8   13.7   28.    70.9   61.9 ]\n",
      " [  0.85  13.6   20.5   71.4   66.6 ]\n",
      " [  0.9   13.9   26.    71.2   63.4 ]\n",
      " [  0.95  14.4   27.    71.1   62.1 ]]\n"
     ]
    }
   ],
   "source": [
    "import numpy as np\n",
    "allData = np.empty((0,5))\n",
    "print(allData)\n",
    "newData = np.loadtxt('./condensationDataFiles/dropwise_01.dat', skiprows=1)\n",
    "allData = np.append(allData, newData, axis=0)\n",
    "print(allData)"
   ]
  },
  {
   "cell_type": "markdown",
   "metadata": {},
   "source": [
    "<p style=\"color:#4799ff;\">EXERCISE 3.3</p>\n",
    "* Here we make use of an iterative loop to automate the data import\n",
    "* Use a for loop to repeatedly import data from the data files you located from glob.glob command, and append each data set into an array\n",
    "* e.g. \n",
    "<pre>\n",
    "for i in fileList:\n",
    "   .....\n",
    "</pre>"
   ]
  },
  {
   "cell_type": "code",
   "execution_count": 41,
   "metadata": {
    "collapsed": false
   },
   "outputs": [
    {
     "name": "stdout",
     "output_type": "stream",
     "text": [
      "my current allData array looks like this []\n",
      "my current allData array now looks like this: \n",
      " [[  0.8   13.9   20.    71.4   66.6 ]\n",
      " [  0.8   13.9   26.    71.2   63.4 ]\n",
      " [  0.8   14.4   27.    71.1   62.1 ]\n",
      " [  0.8   13.7   28.    70.9   61.9 ]\n",
      " [  0.85  13.6   20.5   71.4   66.6 ]\n",
      " [  0.9   13.9   26.    71.2   63.4 ]\n",
      " [  0.95  14.4   27.    71.1   62.1 ]\n",
      " [  1.    13.7   28.    70.9   61.9 ]\n",
      " [  1.1   13.8   28.    71.5   63.  ]\n",
      " [  1.1   13.6   33.    70.8   59.8 ]\n",
      " [  1.2   14.    28.5   71.5   63.  ]\n",
      " [  1.2   13.6   33.    71.3   59.  ]\n",
      " [  1.2   13.7   34.    71.4   60.  ]\n",
      " [  1.2   14.4   39.    71.5   57.  ]\n",
      " [  1.3   13.9   34.5   73.2   60.  ]\n",
      " [  1.35  14.    44.5   72.2   52.6 ]\n",
      " [  1.35  13.6   47.4   71.4   50.2 ]\n",
      " [  1.4   14.4   39.    71.5   57.  ]\n",
      " [  1.45  13.1   47.6   71.9   49.2 ]\n",
      " [  1.5   14.4   40.    71.    55.  ]\n",
      " [  1.5   14.4   40.    70.5   55.  ]\n",
      " [  1.5   14.    44.5   71.1   52.6 ]\n",
      " [  1.5   13.6   47.4   71.4   50.  ]\n",
      " [  1.5   13.7   48.9   71.2   51.  ]]\n"
     ]
    }
   ],
   "source": [
    "allData = np.empty((0,5))\n",
    "print('my current allData array looks like this', allData)\n",
    "for i in fileList:\n",
    "    newData = np.loadtxt(i, skiprows=1)\n",
    "    allData = np.append(allData, newData, axis=0)\n",
    "\n",
    "print('my current allData array now looks like this: \\n', allData)"
   ]
  },
  {
   "cell_type": "markdown",
   "metadata": {},
   "source": [
    "#### Calculations for Heat Transfer\n",
    "* Flow rate conversion to SI units (can you remember this one?\n",
    "* Change in energy of cooling water in the plate (equal to heat transfer rate):  $$\\dot{Q} = \\dot{m}C_p \\Delta T_{exit - in}$$\n",
    "* Convert heat transfer rate to heat flux (e.g. divide by the pipe surface area):\n",
    "$$\\dot{q} = \\frac{\\dot{Q}}{ A} $$\n",
    "$$h = \\frac{\\dot{q}}{\\Delta T_{sat - surf}}$$\n",
    "\n",
    "<p style=\"color:#4799ff;\">EXERCISE 3.4</p>\n",
    "* Since we have used arrays, we can perform scalar calculations on it.\n",
    "* Use the heat transfer equations from above and determine the heat transfer coefficient for each set of data.\n",
    "* e.g. <pre>Qdot = allData[:,0]/60 \\* 4186 * (allData[:,2]-allData[:,1])</pre>"
   ]
  },
  {
   "cell_type": "code",
   "execution_count": 47,
   "metadata": {
    "collapsed": false
   },
   "outputs": [
    {
     "name": "stdout",
     "output_type": "stream",
     "text": [
      "Heat transfer rate is:  [  340.46133333   675.34133333   703.248        798.13066667   409.1815\n",
      "   759.759        835.107        997.66333333  1089.75533333  1488.82066667\n",
      "  1213.94        1624.168       1699.516       2059.512       1868.35133333\n",
      "  2872.6425      3183.453       2402.764       3490.0775      2679.04\n",
      "  2679.04        3191.825       3537.17        3683.68      ] \n",
      "\n",
      "Heat flux rate is:  [  87073.92597085  172720.41053233  179857.61757912  204124.12153821\n",
      "  104649.29832357  194310.46184888  213580.92087521  255155.15192277\n",
      "  278707.93517718  380769.99594628  310468.50653539  415385.45012322\n",
      "  434655.90914955  526725.88005315  477836.01178263  734686.25037901\n",
      "  814176.89386264  614513.52672868  892596.95628926  685171.8764919\n",
      "  685171.8764919   816318.05597668  904640.99318072  942111.33017637] \n",
      "\n",
      "Log mean temperature difference is:  [ 49.58748318  43.1677316   41.07843711  40.63146333  49.46982559\n",
      "  43.1677316   41.07843711  40.63146333  41.69779784  35.62392015\n",
      "  41.32691029  34.80347724  35.17920633  28.55542641  34.78939342\n",
      "  19.5338992   13.14955687  28.55542641  11.07085941  25.71009408\n",
      "  25.71009408  19.5338992   12.80760354  12.23472891] \n",
      "\n",
      "Heat transfer coefficient is:  [ 18140.40124393  22143.64237594  19984.17973101  22680.45794869\n",
      "  21801.93715074  24911.59767293  23731.21343058  28350.57243586\n",
      "  32789.16884437  34615.45417693  36525.70665122  33771.17480677\n",
      "  38127.71132891  36325.92276229  36199.69786232  37483.99236628\n",
      "  38404.57046522  42380.24322267  39321.45181891  42823.24228074\n",
      "  44204.63719303  44125.30032306  42272.94360658  46639.17476121]\n"
     ]
    }
   ],
   "source": [
    "Qdot = allData[:,0]/60*4186*(allData[:,2]-allData[:,1])\n",
    "qdot = Qdot/(np.pi*0.098*0.0127)\n",
    "print('Heat transfer rate is: ',  Qdot, '\\n')\n",
    "print('Heat flux rate is: ', qdot, '\\n')\n",
    "dT = allData[:,3]-allData[:,4]\n",
    "\n",
    "Tln = ((allData[:,4]-allData[:,1])-(allData[:,4]-allData[:,2]))\\\n",
    "/(np.log((allData[:,4]-allData[:,1])/(allData[:,4]-allData[:,2])))\n",
    "print('Log mean temperature difference is: ', Tln, '\\n')\n",
    "htc = qdot/dT\n",
    "print('Heat transfer coefficient is: ', htc)"
   ]
  },
  {
   "cell_type": "markdown",
   "metadata": {
    "collapsed": false
   },
   "source": [
    "<p style=\"color:#4799ff;\">EXERCISE 3.5</p>\n",
    "* Use matplotlib module to plot the heat transfer coefficient vs temperature difference between vertical plate surface and saturation temperature\n",
    "e.g\n",
    "<pre>\n",
    "from matplotlib import pyplot as plt\n",
    "%matplotlib inline\n",
    "....\n",
    "</pre>"
   ]
  },
  {
   "cell_type": "code",
   "execution_count": 49,
   "metadata": {
    "collapsed": false,
    "scrolled": true
   },
   "outputs": [
    {
     "data": {
      "text/plain": [
       "<matplotlib.text.Text at 0x811a7f0>"
      ]
     },
     "execution_count": 49,
     "metadata": {},
     "output_type": "execute_result"
    },
    {
     "data": {
      "image/png": "[encoded data removed]",
      "text/plain": [
       "<matplotlib.figure.Figure at 0x80a8f28>"
      ]
     },
     "metadata": {},
     "output_type": "display_data"
    }
   ],
   "source": [
    "from matplotlib import pyplot as plt\n",
    "%matplotlib inline\n",
    "#plt.plot(dT, qdot, 'o')\n",
    "plt.plot(dT, htc, 'ko')\n",
    "plt.xlabel('Tsat - Ts')\n",
    "plt.ylabel('h (W/m2K)')"
   ]
  },
  {
   "cell_type": "markdown",
   "metadata": {},
   "source": [
    "<p style=\"color:#4799ff;\">EXERCISE 3.6</p>\n",
    "* Repeat the analysis for filmwise condensation\n",
    "* Plot its heat transfer coefficient\n",
    "* Look at the two plots and comment on the differences between the plots!"
   ]
  },
  {
   "cell_type": "code",
   "execution_count": 62,
   "metadata": {
    "collapsed": false
   },
   "outputs": [
    {
     "name": "stdout",
     "output_type": "stream",
     "text": [
      "[[  0.1    34.5    37.7    71.3    38.   ]\n",
      " [  0.2    34.3    35.     70.5    36.   ]\n",
      " [  0.3    34.1    35.     71.2    35.35 ]\n",
      " [  0.4    34.     36.     70.7    40.   ]\n",
      " [  0.5    34.     36.     71.     45.   ]\n",
      " [  0.6    34.     38.     70.9    48.   ]\n",
      " [  0.5    31.9    34.     66.9    49.   ]\n",
      " [  0.2    34.3    34.6    70.4    34.946]\n",
      " [  0.3    34.6    34.9    70.8    35.249]\n",
      " [  0.4    34.7    34.9    71.6    35.249]\n",
      " [  0.5    34.6    34.8    70.8    35.148]\n",
      " [  0.6    34.7    34.9    71.4    35.249]\n",
      " [  0.1    31.5    44.1    67.3    54.   ]\n",
      " [  0.2    31.3    36.6    68.8    39.3  ]\n",
      " [  0.3    31.3    40.7    71.8    62.1  ]\n",
      " [  0.4    31.4    40.5    71.9    65.   ]\n",
      " [  0.5    31.4    38.9    71.9    63.3  ]\n",
      " [  0.6    31.6    38.     71.9    60.2  ]\n",
      " [  0.7    31.6    37.9    71.9    62.5  ]]\n"
     ]
    },
    {
     "data": {
      "text/plain": [
       "<matplotlib.text.Text at 0x7fda198>"
      ]
     },
     "execution_count": 62,
     "metadata": {},
     "output_type": "execute_result"
    },
    {
     "data": {
      "image/png": "[encoded data removed]",
      "text/plain": [
       "<matplotlib.figure.Figure at 0x815f9b0>"
      ]
     },
     "metadata": {},
     "output_type": "display_data"
    }
   ],
   "source": [
    "# Final solution for Film Condensation\n",
    "filmList = glob.glob('./condensationDataFiles/film*.dat')\n",
    "\n",
    "filmData = np.empty((0,5))\n",
    "\n",
    "for file in filmList:\n",
    "    newData = np.loadtxt(file,skiprows=1)\n",
    "    filmData = np.append(filmData, newData, axis=0)\n",
    "    \n",
    "print(filmData)\n",
    "\n",
    "Qdot = filmData[:,0]/60*4186*(filmData[:,2]-filmData[:,1])\n",
    "qdot = Qdot/(np.pi*0.098*0.0127)\n",
    "dT = filmData[:,3] - filmData[:,4]\n",
    "\n",
    "#log mean temperature difference\n",
    "#note the use of a different back slash which breaks the command across 2-lines\n",
    "Tln = ((filmData[:,4]-filmData[:,1])-(filmData[:,4]-filmData[:,2]))/ \\\n",
    "(np.log((filmData[:,4]-filmData[:,1])/(filmData[:,4]-filmData[:,2])))\n",
    "\n",
    "htc = qdot/dT\n",
    "plt.plot(dT, htc, 'ko')\n",
    "plt.xlabel('Tsat - Ts')\n",
    "plt.ylabel('h (W/m2K)')"
   ]
  },
  {
   "cell_type": "markdown",
   "metadata": {
    "collapsed": true
   },
   "source": [
    "#### Discussion\n",
    "In film condensation, a film layer is produced which flows downwards under gravitational force. It is this film of liquid between the surface and the vapor that produce the main resistance of heat transfer.\n",
    "\n",
    "Dropwise condensation occurs when droplets form on the surface, and through merging with other bubbles can grow in size until it is sufficiently large to overcome surface tension forces and slides downwards under graviational forces. The large void regions providing direct heat transfer contact between surface and vapour, is ideal for heat exchange since it produces much higher heat transfer rates than film condensation. Unfortunately maintaining dropwise condensation is difficult because of the bubbles' propensity to grow in size and eventually flow together forming a film layer."
   ]
  }
 ],
 "metadata": {
  "kernelspec": {
   "display_name": "Python 3",
   "language": "python",
   "name": "python3"
  },
  "language_info": {
   "codemirror_mode": {
    "name": "ipython",
    "version": 3
   },
   "file_extension": ".py",
   "mimetype": "text/x-python",
   "name": "python",
   "nbconvert_exporter": "python",
   "pygments_lexer": "ipython3",
   "version": "3.4.4"
  }
 },
 "nbformat": 4,
 "nbformat_minor": 0
}
