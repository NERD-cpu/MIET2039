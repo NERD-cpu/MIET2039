{
 "cells": [
  {
   "cell_type": "markdown",
   "metadata": {
    "collapsed": false
   },
   "source": [
    "<h3 style=\"color:navy;\">MIET2039 Computer Lab 03 - Processing Condensation Experimental Data - Solution</h3>\n",
    "A condensation experimental test was performed and both film and dropwise condensation phenemonon was produced. A vertical plate (<em>height of 13cm, width of 3cm</em>) is placed in a chamber filled with hot vapour. The vertical plate has cold water running through it at a given flow rate. This produces a plate surface temperature lower than the vapour saturation temperature. Heat is absorbed by the flowing water and its temperature change is caused by the condensation heat transfer.\n",
    "<img src=\"img/condensation-CL03.png\" width=\"500px\"/>\n",
    "\n",
    "We will relate the heat transfer gained by the colder fluid to the condensation heat transfer coefficient. In this experiment, the following data were measured:\n",
    "<em>\n",
    "* <span style=\"color:#CD5C5C\">Flowrate L/min (column 0)</span>\n",
    "* <span style=\"color:#CD5C5C\">T<sub>in</sub> water temperature at inlet (column 1)</span>\n",
    "* <span style=\"color:#CD5C5C\">T<sub>out</sub> water temperature at exit (column 2)</span>\n",
    "* <span style=\"color:#CD5C5C\">T<sub>sat</sub> saturation temperature (column 3)</span>\n",
    "* <span style=\"color:#CD5C5C\">T<sub>surf</sub> plate surface temperature (column 4) </span>\n",
    "</em>\n",
    "\n",
    "As an example of the data, the file <em>dropwise_06.dat</em> looks like this:\n",
    "<pre>\n",
    "Flow\tTin\tTout\tTsat\tTsurf\n",
    "1.5\t14.4\t40\t71\t55\n",
    "1.5\t14.4\t40\t70.5\t55\n",
    "1.5\t14\t44.5\t71.1\t52.6\n",
    "1.5\t13.6\t47.4\t71.4\t50\n",
    "1.5\t13.7\t48.9\t71.2\t51\n",
    "</pre>\n",
    "\n",
    "#### Scripting for automating analysis:\n",
    "In experimental work large amounts of data sets are often gathered. Without the use of scripting tools a naive experimentalist would probably process each data file manually. If this data set happens to contain hundreds of files then this is a problem. In this session we look at ways to automate processing experimental. \n",
    "#### Some new python commands\n",
    "* We will use the <strong>glob</strong> module which helps us find files matching a specified pattern\n",
    "* We will use numpy arrays. Array dimensions need to be pre-defined before performing actions on it.\n",
    "* Our data files containing the experimental data have five columns and 3 to 5 rows of data\n",
    "* Our strategy is to read the contents of each file and store it into a numpy array using the append method\n",
    "* We initialize an empty array 0,5 with np.empty((0,5))"
   ]
  },
  {
   "cell_type": "markdown",
   "metadata": {},
   "source": [
    "<p style=\"color:#4799ff;\">EXERCISE 3.1</p>\n",
    "* import glob\n",
    "* find all files in your folder with the word drop in the filename and an extension .dat\n",
    "* store them in a list and then print the list out to make sure you have the correct files"
   ]
  },
  {
   "cell_type": "code",
   "execution_count": null,
   "metadata": {
    "collapsed": false
   },
   "outputs": [],
   "source": [
    "import glob\n",
    "fileList = glob.glob('condensationDataFiles/drop*.dat')\n",
    "print(fileList)"
   ]
  },
  {
   "cell_type": "markdown",
   "metadata": {},
   "source": [
    "<p style=\"color:#4799ff;\">EXERCISE 3.2</p>\n",
    "* import numpy as np\n",
    "* create an empty array with dimensions 0x5 (0 rows, 5 columns)\n",
    "<pre> np.empty((0,5)) </pre> \n",
    "* read data from a file by using <pre>np.loadtxt(filename, skiprows=x)</pre>\n",
    "* append the data that was read into the initialized array by using <pre>np.append(arrayAppendingTo, dataToAppend, axis=0)</pre>\n",
    "axis = 0 means append vertically down, axis = 1 appends horizontally\n",
    "* print the new array to confirm that you have appended the data together"
   ]
  },
  {
   "cell_type": "code",
   "execution_count": null,
   "metadata": {
    "collapsed": false
   },
   "outputs": [],
   "source": [
    "import numpy as np\n",
    "\n",
    "# an empty array with the same dimensions to append must be created first\n",
    "allData = np.empty((0,5)) \n",
    "\n",
    "print('my array looks like this \\n', allData, '\\n')\n",
    "# \\n is a new line command inserted into the string quotes\n",
    "\n",
    "# read data from one file first\n",
    "newData = np.loadtxt('./condensationDataFiles/dropwise_01.dat', skiprows=1)\n",
    "\n",
    "# now append the data into the initial array\n",
    "allData = np.append(allData, newData, axis=0)\n",
    "print('my array now looks like this \\n', allData, '\\n')"
   ]
  },
  {
   "cell_type": "markdown",
   "metadata": {},
   "source": [
    "<p style=\"color:#4799ff;\">EXERCISE 3.3</p>\n",
    "* Here we make use of an iterative loop to automate the data import\n",
    "* Use a for loop to repeatedly import data from the data files you located from glob.glob command, and append each data set into an array\n",
    "* e.g. \n",
    "<pre>\n",
    "for i in fileList:\n",
    "   .....\n",
    "</pre>"
   ]
  },
  {
   "cell_type": "code",
   "execution_count": null,
   "metadata": {
    "collapsed": false
   },
   "outputs": [],
   "source": [
    "# initialize array again to make it empty\n",
    "allData = np.empty((0,5))\n",
    "print('my current allData array looks like this \\n', allData, '\\n')\n",
    "\n",
    "# use the formulation from Exercise 3.2 and put it into a loop to read\n",
    "# all the files found from the glob file search command\n",
    "for i in fileList:\n",
    "    newData = np.loadtxt(i, skiprows=1)\n",
    "    allData = np.append(allData, newData, axis=0)\n",
    "\n",
    "print('my current allData array now looks like this: \\n', allData)"
   ]
  },
  {
   "cell_type": "markdown",
   "metadata": {},
   "source": [
    "#### Calculations for Heat Transfer\n",
    "* Flow rate conversion to SI units (can you remember this one?\n",
    "* Change in energy of cooling water in the plate (equal to heat transfer rate):  $$\\dot{Q} = \\dot{m}C_p \\Delta T_{exit - in}$$\n",
    "* Convert heat transfer rate to heat flux (e.g. divide by the vertical plate surface area):\n",
    "$$\\dot{q} = \\frac{\\dot{Q}}{ A} $$\n",
    "$$h = \\frac{\\dot{q}}{\\Delta T_{sat - surf}}$$\n",
    "\n",
    "<p style=\"color:#4799ff;\">EXERCISE 3.4</p>\n",
    "* Since we have used arrays, we can perform scalar calculations on it.\n",
    "* Use the heat transfer equations from above and determine the heat transfer coefficient for each set of data.\n",
    "* e.g. <pre>Qdot = allData[:,0]/60 \\* 4186 * (allData[:,2]-allData[:,1])</pre>\n",
    "careful here since Python starts arrays with index of 0 not 1\n",
    "\n",
    "* The surface area of the vertical plate was defined is 0.13m x 0.03m = 0.0039m^2\n",
    "* Conversion from L/min to kg/s is approximately achieved by dividing by 60 since 1L ~ 1kg\n",
    "* Cp of water is 4186 J/kgK"
   ]
  },
  {
   "cell_type": "code",
   "execution_count": null,
   "metadata": {
    "collapsed": false
   },
   "outputs": [],
   "source": [
    "# Calculation of Q for each experimental run\n",
    "Qdot = allData[:,0]/60*4186*(allData[:,2]-allData[:,1])\n",
    "\n",
    "# Calculation of heat flux for each experimental run\n",
    "area = 0.00390\n",
    "qdot = Qdot/(area)\n",
    "print('Heat transfer rate is: \\n',  Qdot, '\\n')\n",
    "print('Heat flux rate is: \\n', qdot, '\\n')\n",
    "\n",
    "# Excess temperature for each experimental run\n",
    "dT = allData[:,3]-allData[:,4]\n",
    "\n",
    "# Heat transfer coefficient from condensation process for each experimental run\n",
    "htc = qdot/dT\n",
    "print('Heat transfer coefficient is: \\n', htc)"
   ]
  },
  {
   "cell_type": "markdown",
   "metadata": {
    "collapsed": false
   },
   "source": [
    "<p style=\"color:#4799ff;\">EXERCISE 3.5</p>\n",
    "* Use matplotlib module to plot the heat transfer coefficient vs temperature difference between vertical plate surface and saturation temperature\n",
    "e.g\n",
    "<pre>\n",
    "from matplotlib import pyplot as plt\n",
    "%matplotlib inline\n",
    "....\n",
    "</pre>"
   ]
  },
  {
   "cell_type": "code",
   "execution_count": null,
   "metadata": {
    "collapsed": false,
    "scrolled": true
   },
   "outputs": [],
   "source": [
    "from matplotlib import pyplot as plt\n",
    "%matplotlib inline\n",
    "\n",
    "plt.plot(dT, htc, 'ko')\n",
    "plt.xlabel('Tsat - Ts')\n",
    "plt.ylabel('h (W/m2K)')"
   ]
  },
  {
   "cell_type": "markdown",
   "metadata": {},
   "source": [
    "<p style=\"color:#4799ff;\">EXERCISE 3.6</p>\n",
    "* Repeat the analysis for filmwise condensation\n",
    "* Plot its heat transfer coefficient\n",
    "* Look at the two plots and comment on the differences between the plots!"
   ]
  },
  {
   "cell_type": "code",
   "execution_count": null,
   "metadata": {
    "collapsed": false
   },
   "outputs": [],
   "source": [
    "# Final solution for Film Condensation\n",
    "filmList = glob.glob('./condensationDataFiles/film*.dat')\n",
    "\n",
    "filmData = np.empty((0,5))\n",
    "\n",
    "for file in filmList:\n",
    "    newData = np.loadtxt(file,skiprows=1)\n",
    "    filmData = np.append(filmData, newData, axis=0)\n",
    "    \n",
    "print(filmData)\n",
    "\n",
    "Qdot = filmData[:,0]/60*4186*(filmData[:,2] - filmData[:,1])\n",
    "qdot = Qdot/(area)\n",
    "dT = filmData[:,3] - filmData[:,4]\n",
    "\n",
    "#log mean temperature difference\n",
    "#note the use of a different back slash which breaks the command across 2-lines\n",
    "\n",
    "htc = qdot/dT\n",
    "plt.plot(dT, htc, 'ko')\n",
    "plt.xlabel('Tsat - Ts')\n",
    "plt.ylabel('h (W/m2K)')"
   ]
  },
  {
   "cell_type": "markdown",
   "metadata": {
    "collapsed": true
   },
   "source": [
    "#### Discussion\n",
    "In film condensation, a film layer is produced which flows downwards under gravitational force. It is this film of liquid between the surface and the vapor that produce the main resistance of heat transfer.\n",
    "\n",
    "Dropwise condensation occurs when droplets form on the surface, and through merging with other bubbles can grow in size until it is sufficiently large to overcome surface tension forces and slides downwards under graviational forces. The large void regions providing direct heat transfer contact between surface and vapour, is ideal for heat exchange since it produces much higher heat transfer rates than film condensation. Unfortunately maintaining dropwise condensation is difficult because of the bubbles' propensity to grow in size and eventually flow together forming a film layer."
   ]
  }
 ],
 "metadata": {
  "kernelspec": {
   "display_name": "Python 3",
   "language": "python",
   "name": "python3"
  },
  "language_info": {
   "codemirror_mode": {
    "name": "ipython",
    "version": 3
   },
   "file_extension": ".py",
   "mimetype": "text/x-python",
   "name": "python",
   "nbconvert_exporter": "python",
   "pygments_lexer": "ipython3",
   "version": "3.4.4"
  }
 },
 "nbformat": 4,
 "nbformat_minor": 0
}
