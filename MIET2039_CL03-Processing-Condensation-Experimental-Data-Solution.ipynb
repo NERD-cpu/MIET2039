{
 "cells": [
  {
   "cell_type": "markdown",
   "metadata": {
    "collapsed": false
   },
   "source": [
    "<h3 style=\"color:navy;\">MIET2039 Computer Lab 03 - Processing Condensation Experimental Data - Solution</h3>\n",
    "A condensation experimental test was performed and both film and dropwise condensation phenemonon was produced. A vertical plate (<em>height of 13cm, width of 3cm</em>) is placed in a chamber filled with hot vapour. The vertical plate has cold water running through it at a given flow rate. This produces a plate surface temperature lower than the vapour saturation temperature. Heat is absorbed by the flowing water and its temperature change is caused by the condensation heat transfer.\n",
    "<img src=\"img/condensation-CL03.png\" width=\"500px\"/>\n",
    "\n",
    "We will relate the heat transfer gained by the colder fluid to the condensation heat transfer coefficient. In this experiment, the following data were measured:\n",
    "<em>\n",
    "* <span style=\"color:#CD5C5C\">Flowrate L/min (column 0)</span>\n",
    "* <span style=\"color:#CD5C5C\">T<sub>in</sub> water temperature at inlet (column 1)</span>\n",
    "* <span style=\"color:#CD5C5C\">T<sub>out</sub> water temperature at exit (column 2)</span>\n",
    "* <span style=\"color:#CD5C5C\">T<sub>sat</sub> saturation temperature (column 3)</span>\n",
    "* <span style=\"color:#CD5C5C\">T<sub>surf</sub> plate surface temperature (column 4) </span>\n",
    "</em>\n",
    "\n",
    "As an example of the data, the file <em>dropwise_06.dat</em> looks like this:\n",
    "<pre>\n",
    "Flow\tTin\tTout\tTsat\tTsurf\n",
    "1.5\t14.4\t40\t71\t55\n",
    "1.5\t14.4\t40\t70.5\t55\n",
    "1.5\t14\t44.5\t71.1\t52.6\n",
    "1.5\t13.6\t47.4\t71.4\t50\n",
    "1.5\t13.7\t48.9\t71.2\t51\n",
    "</pre>\n",
    "\n",
    "#### Scripting for automating analysis:\n",
    "In experimental work large amounts of data sets are often gathered. Without the use of scripting tools a naive experimentalist would probably process each data file manually. If this data set happens to contain hundreds of files then this is a problem. In this session we look at ways to automate processing experimental. \n",
    "#### Some new python commands\n",
    "* We will use the <strong>glob</strong> module which helps us find files matching a specified pattern\n",
    "* We will use numpy arrays. Array dimensions need to be pre-defined before performing actions on it.\n",
    "* Our data files containing the experimental data have five columns and 3 to 5 rows of data\n",
    "* Our strategy is to read the contents of each file and store it into a numpy array using the append method\n",
    "* We initialize an empty array 0,5 with np.empty((0,5))"
   ]
  },
  {
   "cell_type": "markdown",
   "metadata": {},
   "source": [
    "<p style=\"color:#4799ff;\">EXERCISE 3.1</p>\n",
    "* import glob\n",
    "* find all files in your folder with the word drop in the filename and an extension .dat\n",
    "* store them in a list and then print the list out to make sure you have the correct files"
   ]
  },
  {
   "cell_type": "code",
   "execution_count": 9,
   "metadata": {
    "collapsed": false
   },
   "outputs": [
    {
     "name": "stdout",
     "output_type": "stream",
     "text": [
      "['condensationDataFiles\\\\dropwise_01.dat', 'condensationDataFiles\\\\dropwise_02.dat', 'condensationDataFiles\\\\dropwise_03.dat', 'condensationDataFiles\\\\dropwise_04.dat', 'condensationDataFiles\\\\dropwise_05.dat', 'condensationDataFiles\\\\dropwise_06.dat']\n"
     ]
    }
   ],
   "source": [
    "import glob\n",
    "fileList = glob.glob('condensationDataFiles/drop*.dat')\n",
    "print(fileList)"
   ]
  },
  {
   "cell_type": "markdown",
   "metadata": {},
   "source": [
    "<p style=\"color:#4799ff;\">EXERCISE 3.2</p>\n",
    "* import numpy as np\n",
    "* create an empty array with dimensions 0x5 (0 rows, 5 columns)\n",
    "<pre> np.empty((0,5)) </pre> \n",
    "* read data from a file by using <pre>np.loadtxt(filename, skiprows=x)</pre>\n",
    "* append the data that was read into the initialized array by using <pre>np.append(arrayAppendingTo, dataToAppend, axis=0)</pre>\n",
    "axis = 0 means append vertically down, axis = 1 appends horizontally\n",
    "* print the new array to confirm that you have appended the data together"
   ]
  },
  {
   "cell_type": "code",
   "execution_count": 10,
   "metadata": {
    "collapsed": false
   },
   "outputs": [
    {
     "name": "stdout",
     "output_type": "stream",
     "text": [
      "my array looks like this \n",
      " [] \n",
      "\n",
      "my array now looks like this \n",
      " [[  0.8   13.9   20.    71.4   66.6 ]\n",
      " [  0.8   13.9   26.    71.2   63.4 ]\n",
      " [  0.8   14.4   27.    71.1   62.1 ]\n",
      " [  0.8   13.7   28.    70.9   61.9 ]\n",
      " [  0.85  13.6   20.5   71.4   66.6 ]\n",
      " [  0.9   13.9   26.    71.2   63.4 ]\n",
      " [  0.95  14.4   27.    71.1   62.1 ]] \n",
      "\n"
     ]
    }
   ],
   "source": [
    "import numpy as np\n",
    "\n",
    "# an empty array with the same dimensions to append must be created first\n",
    "allData = np.empty((0,5)) \n",
    "\n",
    "print('my array looks like this \\n', allData, '\\n')\n",
    "# \\n is a new line command inserted into the string quotes\n",
    "\n",
    "# read data from one file first\n",
    "newData = np.loadtxt('./condensationDataFiles/dropwise_01.dat', skiprows=1)\n",
    "\n",
    "# now append the data into the initial array\n",
    "allData = np.append(allData, newData, axis=0)\n",
    "print('my array now looks like this \\n', allData, '\\n')"
   ]
  },
  {
   "cell_type": "markdown",
   "metadata": {},
   "source": [
    "<p style=\"color:#4799ff;\">EXERCISE 3.3</p>\n",
    "* Here we make use of an iterative loop to automate the data import\n",
    "* Use a for loop to repeatedly import data from the data files you located from glob.glob command, and append each data set into an array\n",
    "* e.g. \n",
    "<pre>\n",
    "for i in fileList:\n",
    "   .....\n",
    "</pre>"
   ]
  },
  {
   "cell_type": "code",
   "execution_count": 11,
   "metadata": {
    "collapsed": false
   },
   "outputs": [
    {
     "name": "stdout",
     "output_type": "stream",
     "text": [
      "my current allData array looks like this \n",
      " [] \n",
      "\n",
      "my current allData array now looks like this: \n",
      " [[  0.8   13.9   20.    71.4   66.6 ]\n",
      " [  0.8   13.9   26.    71.2   63.4 ]\n",
      " [  0.8   14.4   27.    71.1   62.1 ]\n",
      " [  0.8   13.7   28.    70.9   61.9 ]\n",
      " [  0.85  13.6   20.5   71.4   66.6 ]\n",
      " [  0.9   13.9   26.    71.2   63.4 ]\n",
      " [  0.95  14.4   27.    71.1   62.1 ]\n",
      " [  1.    13.7   28.    70.9   61.9 ]\n",
      " [  1.1   13.8   28.    71.5   63.  ]\n",
      " [  1.1   13.6   33.    70.8   59.8 ]\n",
      " [  1.2   14.    28.5   71.5   63.  ]\n",
      " [  1.2   13.6   33.    71.3   59.  ]\n",
      " [  1.2   13.7   34.    71.4   60.  ]\n",
      " [  1.2   14.4   39.    71.5   57.  ]\n",
      " [  1.3   13.9   34.5   73.2   60.  ]\n",
      " [  1.35  14.    44.5   72.2   52.6 ]\n",
      " [  1.35  13.6   47.4   71.4   50.2 ]\n",
      " [  1.4   14.4   39.    71.5   57.  ]\n",
      " [  1.45  13.1   47.6   71.9   49.2 ]\n",
      " [  1.5   14.4   40.    71.    55.  ]\n",
      " [  1.5   14.4   40.    70.5   55.  ]\n",
      " [  1.5   14.    44.5   71.1   52.6 ]\n",
      " [  1.5   13.6   47.4   71.4   50.  ]\n",
      " [  1.5   13.7   48.9   71.2   51.  ]]\n"
     ]
    }
   ],
   "source": [
    "# initialize array again to make it empty\n",
    "allData = np.empty((0,5))\n",
    "print('my current allData array looks like this \\n', allData, '\\n')\n",
    "\n",
    "# use the formulation from Exercise 3.2 and put it into a loop to read\n",
    "# all the files found from the glob file search command\n",
    "for i in fileList:\n",
    "    newData = np.loadtxt(i, skiprows=1)\n",
    "    allData = np.append(allData, newData, axis=0)\n",
    "\n",
    "print('my current allData array now looks like this: \\n', allData)"
   ]
  },
  {
   "cell_type": "markdown",
   "metadata": {},
   "source": [
    "#### Calculations for Heat Transfer\n",
    "* Flow rate conversion to SI units (can you remember this one?\n",
    "* Change in energy of cooling water in the plate (equal to heat transfer rate):  $$\\dot{Q} = \\dot{m}C_p \\Delta T_{exit - in}$$\n",
    "* Convert heat transfer rate to heat flux (e.g. divide by the vertical plate surface area):\n",
    "$$\\dot{q} = \\frac{\\dot{Q}}{ A} $$\n",
    "$$h = \\frac{\\dot{q}}{\\Delta T_{sat - surf}}$$\n",
    "\n",
    "<p style=\"color:#4799ff;\">EXERCISE 3.4</p>\n",
    "* Since we have used arrays, we can perform scalar calculations on it.\n",
    "* Use the heat transfer equations from above and determine the heat transfer coefficient for each set of data.\n",
    "* e.g. <pre>Qdot = allData[:,0]/60 \\* 4186 * (allData[:,2]-allData[:,1])</pre>\n",
    "careful here since Python starts arrays with index of 0 not 1\n",
    "\n",
    "* The surface area of the vertical plate was defined is 0.13m x 0.03m = 0.0039m^2\n",
    "* Conversion from L/min to kg/s is approximately achieved by dividing by 60 since 1L ~ 1kg\n",
    "* Cp of water is 4186 J/kgK"
   ]
  },
  {
   "cell_type": "code",
   "execution_count": 12,
   "metadata": {
    "collapsed": false
   },
   "outputs": [
    {
     "name": "stdout",
     "output_type": "stream",
     "text": [
      "Heat transfer rate is: \n",
      " [  340.46133333   675.34133333   703.248        798.13066667   409.1815\n",
      "   759.759        835.107        997.66333333  1089.75533333  1488.82066667\n",
      "  1213.94        1624.168       1699.516       2059.512       1868.35133333\n",
      "  2872.6425      3183.453       2402.764       3490.0775      2679.04\n",
      "  2679.04        3191.825       3537.17        3683.68      ] \n",
      "\n",
      "Heat flux rate is: \n",
      " [  87297.77777778  173164.44444444  180320.          204648.88888889\n",
      "  104918.33333333  194810.          214130.          255811.11111111\n",
      "  279424.44444444  381748.88888889  311266.66666667  416453.33333333\n",
      "  435773.33333333  528080.          479064.44444444  736575.          816270.\n",
      "  616093.33333333  894891.66666667  686933.33333333  686933.33333333\n",
      "  818416.66666667  906966.66666667  944533.33333333] \n",
      "\n",
      "Heat transfer coefficient is: \n",
      " [ 18187.03703704  22200.56980057  20035.55555556  22738.7654321\n",
      "  21857.98611111  24975.64102564  23792.22222222  28423.45679012\n",
      "  32873.46405229  34704.44444444  36619.60784314  33857.99457995\n",
      "  38225.73099415  36419.31034483  36292.76094276  37580.35714286\n",
      "  38503.30188679  42489.1954023   39422.54038179  42933.33333333\n",
      "  44318.27956989  44238.73873874  42381.61993769  46759.07590759]\n"
     ]
    }
   ],
   "source": [
    "# Calculation of Q for each experimental run\n",
    "Qdot = allData[:,0]/60*4186*(allData[:,2]-allData[:,1])\n",
    "\n",
    "# Calculation of heat flux for each experimental run\n",
    "area = 0.00390\n",
    "qdot = Qdot/(area)\n",
    "print('Heat transfer rate is: \\n',  Qdot, '\\n')\n",
    "print('Heat flux rate is: \\n', qdot, '\\n')\n",
    "\n",
    "# Excess temperature for each experimental run\n",
    "dT = allData[:,3]-allData[:,4]\n",
    "\n",
    "# Heat transfer coefficient from condensation process for each experimental run\n",
    "htc = qdot/dT\n",
    "print('Heat transfer coefficient is: \\n', htc)"
   ]
  },
  {
   "cell_type": "markdown",
   "metadata": {
    "collapsed": false
   },
   "source": [
    "<p style=\"color:#4799ff;\">EXERCISE 3.5</p>\n",
    "* Use matplotlib module to plot the heat transfer coefficient vs temperature difference between vertical plate surface and saturation temperature\n",
    "e.g\n",
    "<pre>\n",
    "from matplotlib import pyplot as plt\n",
    "%matplotlib inline\n",
    "....\n",
    "</pre>"
   ]
  },
  {
   "cell_type": "code",
   "execution_count": 13,
   "metadata": {
    "collapsed": false,
    "scrolled": true
   },
   "outputs": [
    {
     "data": {
      "text/plain": [
       "<matplotlib.text.Text at 0x75c9e80>"
      ]
     },
     "execution_count": 13,
     "metadata": {},
     "output_type": "execute_result"
    },
    {
     "data": {
      "image/png": "[encoded data removed]",
      "text/plain": [
       "<matplotlib.figure.Figure at 0x73cf9b0>"
      ]
     },
     "metadata": {},
     "output_type": "display_data"
    }
   ],
   "source": [
    "from matplotlib import pyplot as plt\n",
    "%matplotlib inline\n",
    "\n",
    "plt.plot(dT, htc, 'ko')\n",
    "plt.xlabel('Tsat - Ts')\n",
    "plt.ylabel('h (W/m2K)')"
   ]
  },
  {
   "cell_type": "markdown",
   "metadata": {},
   "source": [
    "<p style=\"color:#4799ff;\">EXERCISE 3.6</p>\n",
    "* Repeat the analysis for filmwise condensation\n",
    "* Plot its heat transfer coefficient\n",
    "* Look at the two plots and comment on the differences between the plots!"
   ]
  },
  {
   "cell_type": "code",
   "execution_count": 14,
   "metadata": {
    "collapsed": false
   },
   "outputs": [
    {
     "name": "stdout",
     "output_type": "stream",
     "text": [
      "[[  0.1    34.5    37.7    71.3    38.   ]\n",
      " [  0.2    34.3    35.     70.5    36.   ]\n",
      " [  0.3    34.1    35.     71.2    35.35 ]\n",
      " [  0.4    34.     36.     70.7    40.   ]\n",
      " [  0.5    34.     36.     71.     45.   ]\n",
      " [  0.6    34.     38.     70.9    48.   ]\n",
      " [  0.5    31.9    34.     66.9    49.   ]\n",
      " [  0.2    34.3    34.6    70.4    34.946]\n",
      " [  0.3    34.6    34.9    70.8    35.249]\n",
      " [  0.4    34.7    34.9    71.6    35.249]\n",
      " [  0.5    34.6    34.8    70.8    35.148]\n",
      " [  0.6    34.7    34.9    71.4    35.249]\n",
      " [  0.1    31.5    44.1    67.3    54.   ]\n",
      " [  0.2    31.3    36.6    68.8    39.3  ]\n",
      " [  0.3    31.3    40.7    71.8    62.1  ]\n",
      " [  0.4    31.4    40.5    71.9    65.   ]\n",
      " [  0.5    31.4    38.9    71.9    63.3  ]\n",
      " [  0.6    31.6    38.     71.9    60.2  ]\n",
      " [  0.7    31.6    37.9    71.9    62.5  ]]\n"
     ]
    },
    {
     "data": {
      "text/plain": [
       "<matplotlib.text.Text at 0x7ba4438>"
      ]
     },
     "execution_count": 14,
     "metadata": {},
     "output_type": "execute_result"
    },
    {
     "data": {
      "image/png": "[encoded data removed]",
      "text/plain": [
       "<matplotlib.figure.Figure at 0x7fffdd8>"
      ]
     },
     "metadata": {},
     "output_type": "display_data"
    }
   ],
   "source": [
    "# Final solution for Film Condensation\n",
    "filmList = glob.glob('./condensationDataFiles/film*.dat')\n",
    "\n",
    "filmData = np.empty((0,5))\n",
    "\n",
    "for file in filmList:\n",
    "    newData = np.loadtxt(file,skiprows=1)\n",
    "    filmData = np.append(filmData, newData, axis=0)\n",
    "    \n",
    "print(filmData)\n",
    "\n",
    "Qdot = filmData[:,0]/60*4186*(filmData[:,2] - filmData[:,1])\n",
    "qdot = Qdot/(area)\n",
    "dT = filmData[:,3] - filmData[:,4]\n",
    "\n",
    "#log mean temperature difference\n",
    "#note the use of a different back slash which breaks the command across 2-lines\n",
    "\n",
    "htc = qdot/dT\n",
    "plt.plot(dT, htc, 'ko')\n",
    "plt.xlabel('Tsat - Ts')\n",
    "plt.ylabel('h (W/m2K)')"
   ]
  },
  {
   "cell_type": "markdown",
   "metadata": {
    "collapsed": true
   },
   "source": [
    "#### Discussion\n",
    "In film condensation, a film layer is produced which flows downwards under gravitational force. It is this film of liquid between the surface and the vapor that produce the main resistance of heat transfer.\n",
    "\n",
    "Dropwise condensation occurs when droplets form on the surface, and through merging with other bubbles can grow in size until it is sufficiently large to overcome surface tension forces and slides downwards under graviational forces. The large void regions providing direct heat transfer contact between surface and vapour, is ideal for heat exchange since it produces much higher heat transfer rates than film condensation. Unfortunately maintaining dropwise condensation is difficult because of the bubbles' propensity to grow in size and eventually flow together forming a film layer."
   ]
  }
 ],
 "metadata": {
  "kernelspec": {
   "display_name": "Python 3",
   "language": "python",
   "name": "python3"
  },
  "language_info": {
   "codemirror_mode": {
    "name": "ipython",
    "version": 3
   },
   "file_extension": ".py",
   "mimetype": "text/x-python",
   "name": "python",
   "nbconvert_exporter": "python",
   "pygments_lexer": "ipython3",
   "version": "3.4.4"
  }
 },
 "nbformat": 4,
 "nbformat_minor": 0
}
