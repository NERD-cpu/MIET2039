{
 "cells": [
  {
   "cell_type": "markdown",
   "metadata": {
    "collapsed": false
   },
   "source": [
    "<h3>Linear Interpolation for Steam Tables</h3>"
   ]
  },
  {
   "cell_type": "markdown",
   "metadata": {},
   "source": [
    "* In today's class we're going to use both lists and arrays. \n",
    "* There is a subtle difference so be aware of it. \n",
    "* Lists differ from arrays in that arrays are treated as matrices and therefore matrix operations can be applied to them."
   ]
  },
  {
   "cell_type": "markdown",
   "metadata": {},
   "source": [
    "<h4>Single Linear Interpolation</h4>\n",
    "* Linear interpolation is a way to fill in the missing data in tables. As an example, Let us consider two points on the p-h diagram for water below.\n",
    "* <strong>Point 1 is at T = 111-degrees Celcius for and P = 0.01MPa</strong>. For this point we will do a single interpolation.\n",
    "* Analysis of the compression cycle begins with an isentropic assumption. We note that Point 1 is very close to the entropy line equal to 8.5\n",
    "* For an isentropic compression we follow the entropy line up until we reach a new pressure created the compression.\n",
    "* <strong>Point 2 is at P= 0.02MPa and entropy is s=8.5</strong>\n",
    "\n",
    "<img src=\"img/CL02-steam.png\" style=\"width:785px;height:556px;\" align=\"left\">"
   ]
  },
  {
   "cell_type": "markdown",
   "metadata": {
    "collapsed": true
   },
   "source": [
    "<p style=\"color:#4799ff;\">EXERCISE 2.1</p>\n",
    "<p>Write a function to solve a single linear interpolation. This is simply</p>\n",
    "<p>$$ y = y_i + \\left(\\frac{x - x_i}{x_f - x_i}\\right)\\times \\left(y_f - y_i\\right) $$</p>\n"
   ]
  },
  {
   "cell_type": "code",
   "execution_count": 3,
   "metadata": {
    "collapsed": false
   },
   "outputs": [],
   "source": [
    "def singleInt(x,x1,x2,y1,y2):\n",
    "    xInc = (x - x1)/(x2 - x1)\n",
    "    y = y1 + xInc*(y2 - y1)\n",
    "    return(y) "
   ]
  },
  {
   "cell_type": "markdown",
   "metadata": {},
   "source": [
    "<p>Test your function using the data in the following table:<br>\n",
    "Determine the:\n",
    "* enthalpy, h and \n",
    "* entropy, s\n",
    "\n",
    "at T = 120 degrees celcius, and print out its values on the screen</p>\n",
    "<img src=\"img/satTable.png\" style=\"width:305px;height:154px;\" align=\"left\">"
   ]
  },
  {
   "cell_type": "code",
   "execution_count": 2,
   "metadata": {
    "collapsed": false
   },
   "outputs": [
    {
     "name": "stdout",
     "output_type": "stream",
     "text": [
      "2725.7\n"
     ]
    }
   ],
   "source": [
    "hT120=singleInt(120,100,150,2687.5,2783)\n",
    "print(hT120)"
   ]
  },
  {
   "cell_type": "markdown",
   "metadata": {},
   "source": [
    "<p style=\"color:#4799ff;\">EXERCISE 2.2</p>\n",
    "Now we understand how interpolation works, we can use a built-in function with the numpy function interp() <br>\n",
    "We're also going to use list comprehension to create lists automatically. This is simply writing a mathematical function f(x). Say you want to rewrite the temperature list from 50 to 2000 incrementing by 50. The mathematical function is\n",
    "$$f(x) = 50+50x \\;\\;\\;\\;\\; \\textrm{for } x[0,3]$$ \n",
    "\n",
    "* import the  numpy library as np\n",
    "* create a list of temperature values using list comprehension\n",
    "* convert the list to a numpy array by np.array\n",
    "* create a np.array for enthalpy, and entropy by manually inputting the four values for each.\n",
    "* use the numpy interp() function, which has the following syntax\n",
    "* np.interp(x, xArray, yArray)\n",
    "* e.g. np.interp(111, temperature, enthalpy) will interpolate both arrays but for the temperature value at T=111\n"
   ]
  },
  {
   "cell_type": "code",
   "execution_count": 5,
   "metadata": {
    "collapsed": false
   },
   "outputs": [
    {
     "name": "stdout",
     "output_type": "stream",
     "text": [
      "[50, 100, 150, 200, 250, 300, 350, 400, 450, 500]\n",
      "[ 50 100 150 200 250 300 350 400 450 500]\n"
     ]
    }
   ],
   "source": [
    "import numpy as np \n",
    "tlist = [50 + 50*x for x in range(10)]  # create a List first\n",
    "tarray = np.array(tlist) \n",
    "\n",
    "print(tlist)\n",
    "print(tarray)"
   ]
  },
  {
   "cell_type": "code",
   "execution_count": 7,
   "metadata": {
    "collapsed": false
   },
   "outputs": [
    {
     "ename": "TypeError",
     "evalue": "unsupported operand type(s) for /: 'list' and 'float'",
     "output_type": "error",
     "traceback": [
      "\u001b[1;31m---------------------------------------------------------------------------\u001b[0m",
      "\u001b[1;31mTypeError\u001b[0m                                 Traceback (most recent call last)",
      "\u001b[1;32m<ipython-input-7-335d548b423c>\u001b[0m in \u001b[0;36m<module>\u001b[1;34m()\u001b[0m\n\u001b[0;32m      1\u001b[0m \u001b[1;31m# try to calculate\u001b[0m\u001b[1;33m\u001b[0m\u001b[1;33m\u001b[0m\u001b[0m\n\u001b[1;32m----> 2\u001b[1;33m \u001b[0mtlist\u001b[0m\u001b[1;33m/\u001b[0m\u001b[1;36m2.0\u001b[0m\u001b[1;33m\u001b[0m\u001b[0m\n\u001b[0m\u001b[0;32m      3\u001b[0m \u001b[1;33m\u001b[0m\u001b[0m\n\u001b[0;32m      4\u001b[0m \u001b[1;31m#error? #delete that and try this\u001b[0m\u001b[1;33m\u001b[0m\u001b[1;33m\u001b[0m\u001b[0m\n\u001b[0;32m      5\u001b[0m \u001b[0mtarray\u001b[0m\u001b[1;33m/\u001b[0m\u001b[1;36m2.0\u001b[0m\u001b[1;33m\u001b[0m\u001b[0m\n",
      "\u001b[1;31mTypeError\u001b[0m: unsupported operand type(s) for /: 'list' and 'float'"
     ]
    }
   ],
   "source": [
    "# try to calculate\n",
    "tlist/2.0\n",
    "\n",
    "#error? #delete that and try this\n",
    "tarray/2.0"
   ]
  },
  {
   "cell_type": "code",
   "execution_count": 8,
   "metadata": {
    "collapsed": false
   },
   "outputs": [
    {
     "data": {
      "text/plain": [
       "2708.51"
      ]
     },
     "execution_count": 8,
     "metadata": {},
     "output_type": "execute_result"
    }
   ],
   "source": [
    "import numpy as np\n",
    "temperature = [50+50*x for x in range(4)]\n",
    "\n",
    "# here we convert the list to a numpy array --> turns a list into a 1D matrix \n",
    "temperature = np.array(temperature)\n",
    "enthalpy = np.array([2592, 2687.5, 2783, 2879.6])\n",
    "entropy = np.array([8.1741, 8.4489, 8.6893, 8.9049])\n",
    "\n",
    "# now we use the numpy function interp ===> np.interp(value at x, xArray, yArray)\n",
    "np.interp(111, temperature, enthalpy)"
   ]
  },
  {
   "cell_type": "markdown",
   "metadata": {
    "collapsed": false
   },
   "source": [
    "<p style=\"color:#4799ff;\">EXERCISE 2.3</p>\n",
    "We can plot two variables simply by importing the plotting library with the command:\n",
    "    \n",
    "<pre> import matplotlib.pyplot as plt</pre>\n",
    "\n",
    "To plot the syntax is:\n",
    "<pre>\n",
    "plt.plot(temperature, enthalpy)\n",
    "</pre>"
   ]
  },
  {
   "cell_type": "code",
   "execution_count": 10,
   "metadata": {
    "collapsed": false,
    "scrolled": true
   },
   "outputs": [
    {
     "data": {
      "text/plain": [
       "[<matplotlib.lines.Line2D at 0x784bf98>]"
      ]
     },
     "execution_count": 10,
     "metadata": {},
     "output_type": "execute_result"
    },
    {
     "data": {
      "image/png": "[encoded data removed]",
      "text/plain": [
       "<matplotlib.figure.Figure at 0x745c0f0>"
      ]
     },
     "metadata": {},
     "output_type": "display_data"
    }
   ],
   "source": [
    "import matplotlib.pyplot as plt\n",
    "%matplotlib inline \n",
    "plt.plot(temperature, enthalpy)  #plt.plot(x,y);"
   ]
  },
  {
   "cell_type": "markdown",
   "metadata": {},
   "source": [
    "We're going to do this using numpy library so you can choose whichever is easiest and best for you"
   ]
  },
  {
   "cell_type": "markdown",
   "metadata": {
    "collapsed": true
   },
   "source": [
    "<h4>Double Linear Interpolation</h4>\n",
    "After isentropic compression we find that the new point is at P = 0.02MPa and s = 8.5 (Point 2)\n",
    "\n",
    "Superheated steam tables are given in blocks defined by pressure. For example take a look at <br>\n",
    "http://www.cfdresearch.com/miet2039/thermoTables.php <br>\n",
    "and look at the superheated section (tables suffixed with SH) and shown belo <br>\n",
    "<p><img src=\"img/CL02-doubleInt.png\" style=\"width:570px;height:242px;\" align=\"left\"></p>\n",
    " <br clear=\"all\"/>\n"
   ]
  },
  {
   "cell_type": "markdown",
   "metadata": {
    "collapsed": true
   },
   "source": [
    "<p style=\"color:#4799ff;\">EXERCISE 2.4</p>\n",
    "<p>We need to find what our new temperature and enthalpy will be after the superheated steam has been compressed to P=0.02MPa. The table above shows that it lies somewhere in between T=100 to T=300 for the pressure values of P=0.01MPa to P=0.05MPa. Therefore we'll need to collect the temperature and enthalpy values that form a block/rectangle around the entropy and pressure point of P=0.02MPa and s=8.5\n",
    "</p>\n",
    "\n",
    "* create numpy arrays for the temperature range, h and s at P=0.01MPa, and h and s at P=0.05MPa\n",
    "* create an array for the pressure values to interpolate between e.g. P = 0.01MPa, P = 0.02MPa, P = 0.05MPa\n",
    "* create the calculations and use np.interp() to solve for temperature and enthalpy at P=0.02MPa"
   ]
  },
  {
   "cell_type": "code",
   "execution_count": null,
   "metadata": {
    "collapsed": false
   },
   "outputs": [],
   "source": []
  },
  {
   "cell_type": "markdown",
   "metadata": {
    "collapsed": false
   },
   "source": [
    "* plot temperature (y-axis) vs entropy (x-axis)"
   ]
  },
  {
   "cell_type": "code",
   "execution_count": null,
   "metadata": {
    "collapsed": true
   },
   "outputs": [],
   "source": []
  },
  {
   "cell_type": "markdown",
   "metadata": {
    "collapsed": true
   },
   "source": [
    "* plot enthalpy (y-axis) vs entropy (x-axis)"
   ]
  },
  {
   "cell_type": "code",
   "execution_count": null,
   "metadata": {
    "collapsed": true
   },
   "outputs": [],
   "source": []
  },
  {
   "cell_type": "markdown",
   "metadata": {},
   "source": [
    "* if you have time you can convert it into a function"
   ]
  },
  {
   "cell_type": "code",
   "execution_count": null,
   "metadata": {
    "collapsed": true
   },
   "outputs": [],
   "source": []
  },
  {
   "cell_type": "code",
   "execution_count": 11,
   "metadata": {
    "collapsed": false
   },
   "outputs": [
    {
     "name": "stdout",
     "output_type": "stream",
     "text": [
      "[ 2686.225  2782.25   2879.15   2977.175  3076.475]\n",
      "[ 8.2605     8.4645225  8.718475   8.915325   9.0967   ]\n"
     ]
    },
    {
     "data": {
      "text/plain": [
       "[<matplotlib.lines.Line2D at 0x74140f0>]"
      ]
     },
     "execution_count": 11,
     "metadata": {},
     "output_type": "execute_result"
    },
    {
     "data": {
      "image/png": "[encoded data removed]",
      "text/plain": [
       "<matplotlib.figure.Figure at 0x780eeb8>"
      ]
     },
     "metadata": {},
     "output_type": "display_data"
    }
   ],
   "source": [
    "tempRange = np.array([100, 150, 200, 250, 300])\n",
    "\n",
    "hAtP001 = np.array([2687.5, 2783, 2879.6, 2977.5, 3076.7])\n",
    "sAtP001 = np.array([8.4489, 8.63893, 8.9049, 9.1015, 9.2827])\n",
    "\n",
    "hAtP005 = np.array([2682.4, 2780., 2877.8, 2976.2, 3075.8])\n",
    "sAtP005 = np.array([7.6953, 7.9413, 8.1592, 8.3568, 8.5387])\n",
    "\n",
    "pressure = [0.01, 0.02, 0.05] #MPa\n",
    "\n",
    "# Array calculation\n",
    "pressInc = (pressure[1]-pressure[0])/(pressure[2]-pressure[0])\n",
    "hReqPress = hAtP001 + (hAtP005 - hAtP001)* pressInc\n",
    "sReqPress = sAtP001 + (sAtP005 - sAtP001)*pressInc\n",
    "print(hReqPress)\n",
    "print(sReqPress)\n",
    "\n",
    "#our independent variable e.g. x is the entropy, so we can now use np.interp\n",
    "np.interp(8.5, sReqPress, tempRange)\n",
    "np.interp(8.5, sReqPress, hReqPress)\n",
    "\n",
    "plt.plot(sReqPress, tempRange)\n",
    "plt.plot(sReqPress, hReqPress)"
   ]
  }
 ],
 "metadata": {
  "kernelspec": {
   "display_name": "Python 3",
   "language": "python",
   "name": "python3"
  },
  "language_info": {
   "codemirror_mode": {
    "name": "ipython",
    "version": 3
   },
   "file_extension": ".py",
   "mimetype": "text/x-python",
   "name": "python",
   "nbconvert_exporter": "python",
   "pygments_lexer": "ipython3",
   "version": "3.4.4"
  }
 },
 "nbformat": 4,
 "nbformat_minor": 0
}
