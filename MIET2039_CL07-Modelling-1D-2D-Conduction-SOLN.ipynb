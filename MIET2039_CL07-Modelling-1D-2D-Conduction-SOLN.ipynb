{
 "cells": [
  {
   "cell_type": "markdown",
   "metadata": {},
   "source": [
    "<h4 style=\"color:#7171C6;\">Exercise 7.1 steady no heat generation</h4>\n",
    "\n",
    "<img src=\"img/conduction-numerical-steady-fixedT.png\" width=\"300px\"/>\n",
    "\n",
    "A plane wall of length 2m has a temperature of 60$^o$C at the left boundary and  20$^o$C at the right boundary. The conductivity of the material is k = 28W/mK.\n",
    "\n",
    "The solution is simple, since Fourier's conduction equation for a constant conductivity in this case is a linear gradient. Applying this to the nodes the solution temperature distribution becomes: <br>\n",
    "[60 50 40 30 20]\n",
    "\n",
    "We will solve the problem numerically using the finite difference discretization discussed in class.\n",
    "\n",
    "Left boundary condition\n",
    "$$T_0 = T_{\\textrm{left}}$$\n",
    "Right boundary condition\n",
    "$$T_4 = T_{\\textrm{right}}$$\n",
    "Internal nodes\n",
    "$$\\frac{T_{i-1} - 2T_i+T_{i+1}}{\\Delta x^2}=0 $$\n"
   ]
  },
  {
   "cell_type": "code",
   "execution_count": 8,
   "metadata": {
    "collapsed": false
   },
   "outputs": [
    {
     "name": "stdout",
     "output_type": "stream",
     "text": [
      "[ 60.  35.  10.  15.  20.]\n"
     ]
    },
    {
     "data": {
      "text/plain": [
       "[<matplotlib.lines.Line2D at 0x5f7de10>]"
      ]
     },
     "execution_count": 8,
     "metadata": {},
     "output_type": "execute_result"
    },
    {
     "data": {
      "image/png": "[encoded data removed]",
      "text/plain": [
       "<matplotlib.figure.Figure at 0x5e160b8>"
      ]
     },
     "metadata": {},
     "output_type": "display_data"
    }
   ],
   "source": [
    "# ******************************************\n",
    "# 1. PRELOAD MODULES\n",
    "# ******************************************\n",
    "import numpy as np                \n",
    "from matplotlib import pyplot as plt   \n",
    "%matplotlib inline  \n",
    "# if you're using sagemathcloud the las line isn't needed\n",
    "\n",
    "\n",
    "# ******************************************\n",
    "# 2. Set up the geometry\n",
    "# ******************************************\n",
    "# length of material\n",
    "L = 2\n",
    "\n",
    "# number of nodes (0 to 4 inclusive)\n",
    "nx = 5\n",
    "\n",
    "# distance between nodes\n",
    "dx = L/(nx-1)\n",
    "\n",
    "\n",
    "# ******************************************\n",
    "# 3. Setup the nodes\n",
    "# ******************************************\n",
    "# create a 1D array of nodes where the nodes have a value of 10-degrees\n",
    "# Later test the effect of different initial temperature value instead of 10 \n",
    "\n",
    "T = np.ones(nx)*10\n",
    "\n",
    "# set the boundary condictions T_left = 60, T_right = 20\n",
    "T[0] = 60\n",
    "T[nx-1] = 20\n",
    "\n",
    "\n",
    "# ******************************************\n",
    "# 4. Solve the problem\n",
    "# ******************************************\n",
    "# write out the discretized equation using array slicing and array arithmetic \n",
    "# this is just like vector addition\n",
    "\n",
    "T[1:-1] = (T[2:] + T[0:-2])/2\n",
    "\n",
    "\n",
    "\n",
    "# ******************************************\n",
    "# 5. Post process data \n",
    "# ******************************************\n",
    "# print the array T, and then plot it using plt.plot(....)\n",
    "print(T)\n",
    "plt.plot(np.linspace(0,L,nx), T)\n",
    "\n"
   ]
  },
  {
   "cell_type": "markdown",
   "metadata": {},
   "source": [
    "We have only performed one iteration which shows that the solution hasn't reached a linear profile. We can say that the solution hasn't converged. We need to iterate continuously until convergence is achieved. \n",
    "\n",
    "We add a continuous loop to repeat the iterations and then introduce a convergence criteria based on residuals. We can calculate the residuals based on the change in values between the new and previous iteration values."
   ]
  },
  {
   "cell_type": "code",
   "execution_count": 16,
   "metadata": {
    "collapsed": false
   },
   "outputs": [
    {
     "name": "stdout",
     "output_type": "stream",
     "text": [
      "10 ) resid: 0.0513663447709\n",
      "20 ) resid: 0.00156379813059\n",
      "[ 60.          49.97070312  39.97070312  29.97070312  20.        ]\n"
     ]
    },
    {
     "data": {
      "text/plain": [
       "[<matplotlib.lines.Line2D at 0x621d278>]"
      ]
     },
     "execution_count": 16,
     "metadata": {},
     "output_type": "execute_result"
    },
    {
     "data": {
      "image/png": "[encoded data removed]",
      "text/plain": [
       "<matplotlib.figure.Figure at 0x618c630>"
      ]
     },
     "metadata": {},
     "output_type": "display_data"
    }
   ],
   "source": [
    "# ******************************************\n",
    "# 6. Settings for iterations\n",
    "# ******************************************\n",
    "# since the array gets updated after iterating we should store the old values to allow \n",
    "# a calculation to see the changes after each iteration\n",
    "# length of material\n",
    "L = 2\n",
    "# number of nodes (0 to 4 inclusive)\n",
    "nx = 5\n",
    "# distance between nodes\n",
    "dx = L/(nx-1)\n",
    "\n",
    "T = np.ones(nx)*10   \n",
    "T[0] = 60\n",
    "T[nx-1] = 20\n",
    "T_old = np.array(T)\n",
    "\n",
    "# set a convergence criteria value for the residual. After doing some runs you can\n",
    "# return here and see what effect the criteria has on the solution\n",
    "criteria = 0.001     \n",
    "\n",
    "# in case we never reach convergence, set a maximum number of iterations to solve for\n",
    "maxIteration = 5000   \n",
    "\n",
    "# set initial iteration counter to 0, and an initial residual counter larger than the criteria\n",
    "# initial iteration counter\n",
    "iteration =  0 \n",
    "\n",
    "# set any number larger than criteria to the iteration\n",
    "residual = 1  \n",
    "\n",
    "\n",
    "# ******************************************\n",
    "# 7. Solver\n",
    "# ******************************************\n",
    "# Use a while loop to let the iterations run until the residual is smaller than the criteria set\n",
    "# place the discretized formula defined in Step 4, into the while loop\n",
    "# store the array into T_old\n",
    "# increment the iteratrion number\n",
    "# check if the iteration has reached its maximum iterations and break the iterator if needed\n",
    "# e.g. if iteration > maxIteration:\n",
    "#        break\n",
    "# The residual equation can be written as np.sqrt(sum((T - T_old)**2))\n",
    "\n",
    "while residual > criteria:         # continuously loop while residual > criteria\n",
    "    T[1:-1] = (T[2:] + T[0:-2])/2\n",
    "    \n",
    "    residual = sum((T - T_old)/T)   # calculate the residual\n",
    "    T_old = np.array(T)             # store the Temperature values into Told\n",
    "    iteration +=1                   # increment the iteration counter\n",
    "    if np.mod(iteration, 10) == 0:  # print every 10th iteration\n",
    "        print (iteration, ') '  'resid:', residual)  # print the results\n",
    "    \n",
    "    if iteration > maxIteration:   # ensure the while loop doesn't go on forever\n",
    "        break        \n",
    "    \n",
    "    \n",
    "            \n",
    "# ******************************************\n",
    "# 8. Process the results\n",
    "# ******************************************\n",
    "# plot the results\n",
    "print(T)\n",
    "plt.plot(np.linspace(0,L,nx), T)\n",
    "\n",
    "\n",
    "\n",
    "# ******************************************\n",
    "# 9. Conclusion\n",
    "# ******************************************\n",
    "# i) how confident are you about the solution reached is accurate?\n",
    "# ii) what effect does changing the residual criteria have on the solution?\n",
    "# iii) what happens if you increase the number of nodes?"
   ]
  },
  {
   "cell_type": "markdown",
   "metadata": {
    "collapsed": false
   },
   "source": [
    "<h4 style=\"color:#7171C6;\">Exercise 7.2 steady state - heat flux and convection boundary conditions</h4>\n",
    "\n",
    "<img src=\"img/conduction-numerical-steady-heatFlux-conv-BC.png\" width=\"300px\"/>\n",
    "The problem is slightly more complicated whenre the boundary conditions are now a  heat flux at the left boundary, a convection heat transfer at the right boundary. The equations setup only changes for these boundaries and are given as: \n",
    "\n",
    "Left boundary condition\n",
    "$$T_0 = \\frac{q_{\\textrm{left}}\\Delta x}{k} + T_{1}$$\n",
    "Right boundary condition\n",
    "$$T_4 = \\frac{(hx/k)T_{\\infty} + T_3}{1 + hx/k} $$\n",
    "\n",
    "Note that the discretization for the internal nodes remain the same:\n",
    "\n",
    "Internal nodes\n",
    "$$\\frac{T_{i-1} - 2T_i+T_{i+1}}{\\Delta x^2}=0 $$\n",
    "\n",
    "* <span style=\"color:#00aa00;\"> The free stream temperature (T_inf = 20 degrees)</span>\n",
    "* <span style=\"color:#00aa00;\">The heat transfer coefficient is 15 W/m2K</span>\n",
    "* <span style=\"color:#00aa00;\">The heat flux at the left boundary is 200 W/m2</span>\n",
    "* <span style=\"color:#00aa00;\">The thermal conductivity of the material is 28 W/mK </span>"
   ]
  },
  {
   "cell_type": "code",
   "execution_count": 19,
   "metadata": {
    "collapsed": false
   },
   "outputs": [
    {
     "name": "stdout",
     "output_type": "stream",
     "text": [
      "113 0.000971927560097\n",
      "[ 47.90404881  44.32369745  40.73498202  37.13006215  33.51677821]\n"
     ]
    },
    {
     "data": {
      "text/plain": [
       "[<matplotlib.lines.Line2D at 0x6464dd8>]"
      ]
     },
     "execution_count": 19,
     "metadata": {},
     "output_type": "execute_result"
    },
    {
     "data": {
      "image/png": "[encoded data removed]",
      "text/plain": [
       "<matplotlib.figure.Figure at 0x5e2ff98>"
      ]
     },
     "metadata": {},
     "output_type": "display_data"
    }
   ],
   "source": [
    "# ******************************************\n",
    "# 1. PRELOAD MODULES (if you haven't done so from exercise 7.1)\n",
    "# ******************************************\n",
    "import numpy as np                \n",
    "from matplotlib import pyplot as plt   \n",
    "%matplotlib inline\n",
    "\n",
    "# ******************************************\n",
    "# 2. Set up the geometry (same geometry as exercise 7.1)\n",
    "# ******************************************\n",
    "# length of material\n",
    "L = 2\n",
    "# number of nodes (0 to 4 inclusive)\n",
    "nx = 5\n",
    "# distance between nodes\n",
    "dx = L/(nx-1)\n",
    "\n",
    "# ******************************************\n",
    "# 3. Define the variables\n",
    "# ******************************************\n",
    "# define the freestream temperature, heat flux, material conductivity, heat transfer coefficient\n",
    "# free stream temperature for convection [K]\n",
    "T_inf = 20\n",
    "\n",
    "# heat flux at left boundary [W/m2]\n",
    "qLeft = 200\n",
    "\n",
    "# material conductivity [W/mK]\n",
    "kCond = 28\n",
    "\n",
    "# heat transfer coefficient [W/m2K]\n",
    "hConv = 15 \n",
    "\n",
    "\n",
    "# ******************************************\n",
    "# 4. Settings for iterations\n",
    "# ******************************************\n",
    "# Set initial node values with a temperatur of 50-deg, later test the effect of different numbers\n",
    "T = np.ones(nx)*50\n",
    "\n",
    "# Store node values in a temporary array, called T_old\n",
    "T_old = np.array(T)\n",
    "\n",
    "# set a convergence criteria\n",
    "# return here and see what effect the criteria has on the solution\n",
    "criteria = 0.001     \n",
    "\n",
    "# set maximum number of iterations\n",
    "maxIteration = 1000   \n",
    "\n",
    "# set initial iteration counter to 0\n",
    "iteration =  0    \n",
    "\n",
    "# set residual to 1\n",
    "residual = 1      \n",
    "\n",
    "\n",
    "# ******************************************\n",
    "# 5. Solve the problem (similar to exercise 7.1)\n",
    "# ******************************************\n",
    "# use a while loop, write the boundary condition equations, then the internal node equation\n",
    "# check residual, and convergence criteria, \n",
    "# store the array into T_old\n",
    "# increment the iteratrion number\n",
    "# check if the iteration has reached its maximum iterations and break the iterator if needed\n",
    "# e.g. if iteration > maxIteration:\n",
    "#        break\n",
    "# The residual equation can be written as np.sqrt(sum((T - T_old)**2))\n",
    "\n",
    "while residual > criteria:         # continuously loop while residual > criteria\n",
    "    T[0] = qLeft*dx/kCond + T[1]   # left heat flux boundary\n",
    "    T[nx-1] = (hConv*dx/kCond * T_inf + T[nx-2])/(1+hConv*dx/kCond) # right convection boundary\n",
    "    T[1:-1] = (T[2:] + T[0:-2])/2  # internal nodes\n",
    "    \n",
    "    residual = np.sqrt(sum((T - T_old)/T)**2)   # calculate the residual\n",
    "    T_old = np.array(T)             # store the Temperature values into Told\n",
    "    iteration +=1\n",
    "    #print (iteration, residual)  # might be too many to print\n",
    "    if iteration > maxIteration:\n",
    "        break                      # stop the iteration if the maximum has been reached\n",
    "\n",
    "print(iteration, residual)\n",
    "print(T)\n",
    "plt.plot(np.linspace(0,L,nx), T)\n",
    "\n",
    "\n",
    "# ******************************************\n",
    "# 6. Conclusion\n",
    "# ******************************************\n",
    "# i) what are the left boundary and right boundary temperatures?\n",
    "# ii) what is the effect of a higher heat flux?\n",
    "# iii) what is the effect of a higher heat transfer coefficient?"
   ]
  },
  {
   "cell_type": "markdown",
   "metadata": {
    "collapsed": true
   },
   "source": [
    "<h4 style=\"color:#7171C6;\">ADDITIONAL STUDY EXERCISE: 2D and 3D models</h4>\n",
    "Solve the steady state solution for a 2D rectangular block with the following temperature boundary conditions:\n",
    "\n",
    "<img src=\"img/2D-heat-conduction.png\" width=\"200px\"/>\n",
    "\n",
    "The 2D-heat equation is:\n",
    "\n",
    "$$ \\frac{\\partial ^2 T}{\\partial x^2} + \\frac{\\partial ^2 T}{\\partial y^2} = 0$$\n",
    "\n",
    "Use the same discretization in the 1-D case, but now repeat in the other axis to complete the 2D form.\n",
    "\n",
    "$$ \\frac{T_{i+1,j} - 2 T_{i,j} + T_{i-1,j}}{\\Delta x^2} + \\frac{T_{i,j+1}-2 T_{i,j} + T_{i,j-1}}{\\Delta y^2} = 0$$\n",
    "\n",
    "We set the cell spacing $\\Delta x = \\Delta y$ which simplifies the equation\n",
    "\n",
    "$$ T_{i+1,j} - 2 T_{i,j} + T_{i-1,j} + T_{i,j+1}-2 T_{i,j} + T_{i,j-1} = 0$$\n",
    "\n",
    "\n",
    "Recall this represents an interior node and is given by $T_{i,j}$\n",
    "$$T_{i,j} =\\frac{ T_{i+1,j} + T_{i-1,j} + T_{i,j+1} + T_{i,j-1}}{4}$$\n",
    "\n",
    "The interpretation here is that the temperature of each interior node is the average of the temperatures of the four neighboring nodes. \n",
    "\n",
    "(What do you think it would be for 3D problem? Can you write out the discretized 3D equation??)\n",
    "\n",
    "\n",
    "\n"
   ]
  },
  {
   "cell_type": "code",
   "execution_count": 20,
   "metadata": {
    "collapsed": false
   },
   "outputs": [
    {
     "data": {
      "image/png": "[encoded data removed]",
      "text/plain": [
       "<matplotlib.figure.Figure at 0x61f0fd0>"
      ]
     },
     "metadata": {},
     "output_type": "display_data"
    },
    {
     "name": "stdout",
     "output_type": "stream",
     "text": [
      "501 3.87619855275\n",
      "[[  8.          10.          10.         ...,  10.          10.           6.        ]\n",
      " [  8.           8.97988234   9.35515231 ...,   8.75571012   7.98251442\n",
      "    6.        ]\n",
      " [  8.           8.56454461   8.91986385 ...,   7.93035755   7.17449777\n",
      "    6.        ]\n",
      " ..., \n",
      " [  8.           7.0655085    6.44524157 ...,   5.45573527   5.67546166\n",
      "    6.        ]\n",
      " [  8.           6.48625159   5.87961569 ...,   5.2801735    5.48888367\n",
      "    6.        ]\n",
      " [  8.           5.           5.         ...,   5.           5.           6.        ]]\n"
     ]
    },
    {
     "data": {
      "image/png": "[encoded data removed]",
      "text/plain": [
       "<matplotlib.figure.Figure at 0x65aeeb8>"
      ]
     },
     "metadata": {},
     "output_type": "display_data"
    }
   ],
   "source": [
    "# To solve you need to setup a 2D mesh. Use numpy's 'np.meshgrid'\n",
    "# example:\n",
    "#=========\n",
    "# x = np.linspace(0,2,nx)\n",
    "# y = np.linspace(0,4,ny)\n",
    "# T = np.ones((ny,nx)) ##create a 1xn vector of 1's\n",
    "# X,Y = np.meshgrid(x,y)\n",
    "# to plot surfaces use plt.contourf\n",
    "\n",
    "\n",
    "import numpy as np\n",
    "%matplotlib inline\n",
    "###variable declarations\n",
    "xLength = 2;   yLength = 4;\n",
    "nx = 50\n",
    "ny = 100\n",
    "dx = xLength/(nx-1)\n",
    "dy = yLength/(ny-1)\n",
    "# in our discretization formulation we set dx = dy, \n",
    "# therefore our in this section we must set our mesh to dx = dy as well\n",
    "\n",
    "x = np.linspace(0,2,nx)\n",
    "y = np.linspace(0,4,ny)\n",
    "\n",
    "T = np.ones((ny,nx)) ##create a 1xn vector of 1's\n",
    "Told = np.array(T)   # store current values of Temperature\n",
    "\n",
    "X,Y = np.meshgrid(x,y)\n",
    "\n",
    "# ******************************************\n",
    "# Assign boundary conditions\n",
    "# ******************************************\n",
    "T[0,:]=10\n",
    "T[-1,:]=5\n",
    "T[:,0]=8\n",
    "T[:,-1]=6\n",
    "\n",
    "\n",
    "fig = plt.figure()\n",
    "cp = plt.contourf(X, Y, T, 50)\n",
    "plt.colorbar(cp)\n",
    "plt.title('Boundary Conditions')\n",
    "plt.xlabel('x')\n",
    "plt.ylabel('y')\n",
    "plt.axes().set_aspect('equal')\n",
    "plt.show()\n",
    "\n",
    "# ******************************************\n",
    "# ITERATION SETTINGS\n",
    "# ******************************************\n",
    "criteria = 0.00001     # convergence criteria\n",
    "maxIteration = 500    # in case we never reach convergence\n",
    "iteration = 1        # initial iteration counter\n",
    "residual = 1         # set any number larger than criteria to the iteration\n",
    "\n",
    "\n",
    "# ******************************************\n",
    "# SOLVE THE PROBLEM\n",
    "# ******************************************\n",
    "while residual > criteria:         # continuously loop while residual > criteria\n",
    "    \n",
    "    T[1:-1, 1:-1] = (T[1:-1,2:] + T[1:-1,0:-2] +T[2:,1:-1] +T[0:-2,1:-1] )*0.25\n",
    "        \n",
    "    residual = np.sum(np.sqrt(sum((T - Told)/T)**2))   # calculate the residual\n",
    "    Told = np.array(T)             # store the Temperature values into Told\n",
    "    iteration +=1\n",
    "    \n",
    "    #print (iteration, residual)\n",
    "    if iteration > maxIteration:\n",
    "        break                      # stop the iteration if the maximum has been reached\n",
    "\n",
    "print(iteration, residual)\n",
    "print(T)\n",
    "\n",
    "\n",
    "cp = plt.contourf(X, Y, T,50)\n",
    "plt.colorbar(cp)\n",
    "plt.title('Boundary Conditions')\n",
    "plt.xlabel('x')\n",
    "plt.ylabel('y')\n",
    "plt.axes().set_aspect('equal')\n",
    "plt.show()"
   ]
  },
  {
   "cell_type": "markdown",
   "metadata": {},
   "source": [
    "<h4 style=\"color:#7171C6;\">NOTES: How to setup other types of boundary conditions</h4>\n",
    "\n",
    "\n",
    "<em>Treatment of boundary nodes - energy balance method</em>\n",
    "* treat all heat transfer into the volume element from all surfaces except for specified heat flux, since its direction is already specified.\n",
    "* examples for on convection boundaries were given in class, which are useful for  investigating fins\n",
    "\n",
    "for a boundary node on a plane surface with convection we get:\n",
    "$$T_{i,j} = \\frac{1}{\\left(2 + \\phi \\right)}\\left[  \\left( T_{i-1,j} + \\frac{T_{i,j+1} + T_{i,j-1}}{2}\\right ) +\n",
    "\\phi T_\\infty \\right]$$\n",
    "\n",
    "where\n",
    "$$\\phi = \\frac{h\\Delta x}{k}$$"
   ]
  }
 ],
 "metadata": {
  "kernelspec": {
   "display_name": "Python 3",
   "language": "python",
   "name": "python3"
  },
  "language_info": {
   "codemirror_mode": {
    "name": "ipython",
    "version": 3
   },
   "file_extension": ".py",
   "mimetype": "text/x-python",
   "name": "python",
   "nbconvert_exporter": "python",
   "pygments_lexer": "ipython3",
   "version": "3.4.4"
  }
 },
 "nbformat": 4,
 "nbformat_minor": 0
}
