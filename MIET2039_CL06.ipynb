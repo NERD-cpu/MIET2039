{
 "cells": [
  {
   "cell_type": "markdown",
   "metadata": {
    "collapsed": false
   },
   "source": [
    "<h4>Exercise 6.1 steady no heat generation</h4>\n",
    "<img src=\"img/conduction-numerical-steady-fixedT.png\" width=\"300px\" align=\"left\"/>"
   ]
  },
  {
   "cell_type": "markdown",
   "metadata": {},
   "source": [
    "Fixed Temperature Boundary Conditions<br>\n",
    "$T_0 = T_{\\textrm{left}}$ <br>\n",
    "$T_4 = T_{\\textrm{right}}$\n",
    "\n",
    "<p>Discretization</p>\n"
   ]
  },
  {
   "cell_type": "code",
   "execution_count": null,
   "metadata": {
    "collapsed": true
   },
   "outputs": [],
   "source": [
    "\n",
    "\n",
    "\n",
    "\n",
    "import numpy as np                #loading our favorite library\n",
    "from matplotlib import pyplot as plt   #and the useful plotting library\n",
    "%matplotlib inline\n",
    "\n",
    "L = 2\n",
    "nx = 20  #number of nodes\n",
    "dx = L/(nx-1)\n",
    "\n",
    "T = np.ones(nx)*10      #a numpy array with nx elements all equal to 1.\n",
    "\n",
    "#Boundary Conditions\n",
    "T[0] = 60\n",
    "T[nx-1] = 50\n",
    "\n",
    "Told = np.array(T) #store current values\n",
    "\n",
    "print(Told)\n",
    "\n",
    "resid = 10\n",
    "convergence = 0.001 # convergence criteria\n",
    "maxIteration = 200\n",
    "iteration = 0\n",
    "\n",
    "while resid > convergence:\n",
    "    for i in range(1,nx-1):\n",
    "        T[i] = (T[i+1]+T[i-1])/2\n",
    "    resid = sum((T - Told)/T)\n",
    "    Told = np.array(T) \n",
    "    iteration +=1\n",
    "    print (iteration, resid)\n",
    "    if iteration > maxIteration:\n",
    "        break\n",
    "\n",
    "print(T)\n",
    "plt.plot(np.linspace(0,L,nx), T)"
   ]
  },
  {
   "cell_type": "markdown",
   "metadata": {
    "collapsed": true
   },
   "source": [
    "<h4>Exercise 6.1 steady no heat generation</h4>\n",
    "\n",
    "$$T_0 = T_{l} \\qquad \\qquad \\frac{T_{m-1} - 2T_m+T_{m+1}}{\\Delta x^2}=0 \\qquad \\qquad T_4 = T_{r}$$\n"
   ]
  },
  {
   "cell_type": "markdown",
   "metadata": {
    "collapsed": true
   },
   "source": [
    "$$\\frac{T_{0} - 2T_1+T_{2}}{\\Delta x^2}=0 \\qquad \\qquad \\frac{T_{1} - 2T_2+T_{3}}{\\Delta x^2}=0 \\qquad \\qquad \\frac{T_{2} - 2T_3+T_{4}}{\\Delta x^2}=0 $$"
   ]
  },
  {
   "cell_type": "markdown",
   "metadata": {
    "collapsed": true
   },
   "source": [
    "Rearrange the equation so in terms of the $$T_m$$\n",
    "\n",
    "$$T_1 = T_{2} \\Delta x^2=0$$\n",
    "\n"
   ]
  },
  {
   "cell_type": "code",
   "execution_count": null,
   "metadata": {
    "collapsed": true
   },
   "outputs": [],
   "source": [
    "for i in range(1,nx-1):\n",
    "    T[i] = (un[i+1]+un[i-1])\n",
    "        \n",
    "pyplot.plot(np.linspace(0,2,nx), u);"
   ]
  },
  {
   "cell_type": "code",
   "execution_count": null,
   "metadata": {
    "collapsed": true
   },
   "outputs": [],
   "source": []
  }
 ],
 "metadata": {
  "kernelspec": {
   "display_name": "Anaconda (Python 3)",
   "language": "python",
   "name": "anaconda3"
  },
  "language_info": {
   "codemirror_mode": {
    "name": "ipython",
    "version": 3
   },
   "file_extension": ".py",
   "mimetype": "text/x-python",
   "name": "python",
   "nbconvert_exporter": "python",
   "pygments_lexer": "ipython3",
   "version": "3.5.1"
  }
 },
 "nbformat": 4,
 "nbformat_minor": 0
}
