{
 "cells": [
  {
   "cell_type": "markdown",
   "metadata": {
    "collapsed": false
   },
   "source": [
    "<p style=\"color:#4799ff;\">EXERCISE 4.1</p>\n",
    "* Open up Notepad or even better a colour coded notepad program such as notepad ++ or ‘programmers notepad’. \n",
    "* Let’s define 3-functions inside the module. From week 1, do you remember how to write functions? You can make any functions you like. If you're stuck about making some functions, here's a sample of some.\n",
    "<pre  style=\"color:#B22222;\">\n",
    "def Re(U,D,rho,mu):\n",
    "   Re = U*D*rho/mu\n",
    "   return (Re)\n",
    "</pre>\n",
    "<pre  style=\"color:#B22222;\">\n",
    "def htc(Nu, L, k):\n",
    "   h = Nu*k/L\n",
    "   return (h)\n",
    "</pre>\n",
    "<pre  style=\"color:#B22222;\">\n",
    "def speak():\n",
    "    import random\n",
    "    nouns = ('The car', 'The bee','The cat','The dog')\n",
    "    verbs = ('moves’,'flies’,'sat','barks') \n",
    "    adv = ('quickly.', 'swiftly.', 'elegantly.', 'merrily.')\n",
    "    num = random.randrange(0,4)\n",
    "    print (nouns[num] + ' ' + verbs[num] + ' ' + adv[num])\n",
    "</pre>\n",
    "\n",
    "* Save the file with any name you like e.g. ‘kiao.py’\n",
    "* Save the file to the location WinPython-64bit-3.4.4.2\\python-3.4.4.amd64\\Lib"
   ]
  },
  {
   "cell_type": "code",
   "execution_count": null,
   "metadata": {
    "collapsed": true
   },
   "outputs": [],
   "source": []
  },
  {
   "cell_type": "markdown",
   "metadata": {
    "collapsed": false
   },
   "source": [
    "<p style=\"color:#4799ff;\">EXERCISE 4.2</p>\n",
    "* Use your saved python file by using the import command\n",
    "* you can try the different import command methods\n",
    "* \"import moduleName\"\n",
    "* \"import moduleName as whateverAlias\"\n",
    "* \"from moduleName import oneFunction\""
   ]
  },
  {
   "cell_type": "code",
   "execution_count": 2,
   "metadata": {
    "collapsed": true
   },
   "outputs": [],
   "source": [
    "import kiao as ki"
   ]
  },
  {
   "cell_type": "markdown",
   "metadata": {},
   "source": [
    "<p style=\"color:#4799ff;\">EXERCISE 4.3</p>\n",
    "* Using the command prompt window install CoolProp module (if unsure, see lecture slides for more info)"
   ]
  },
  {
   "cell_type": "markdown",
   "metadata": {},
   "source": [
    "<p style=\"color:#4799ff;\">EXERCISE 4.4</p>\n",
    "A steam cycle undergoes the following process:\n",
    "* T1 → T2 is a throttling expansion valve which is an isenthalpic process. The pressure drops from 2MPa (liquid) to 0.2MPa (mixture)\n",
    "* T2 → T3 Heat energy is absorbed by the heat exchanger evaporator until it reaches a superheated temperature of T3 = 150<sup>o</sup>C\n",
    "* T3 → T4 A compressor increases the pressure from 0.2MPa to 2MPa in an isentropic process.\n",
    "* T5 → T1 The energy is released to the environment and the superheat condenses in the heat exchanger until it reaches saturation point, and the cycle repeats.\n",
    "* Use CoolProp to obtain its h, P, T, s values at all the points.\n",
    "* you can use the following import method \n",
    "<pre>from CoolProp.CoolProp import PropsSI</pre>\n"
   ]
  },
  {
   "cell_type": "code",
   "execution_count": null,
   "metadata": {
    "collapsed": true
   },
   "outputs": [],
   "source": []
  }
 ],
 "metadata": {
  "kernelspec": {
   "display_name": "Python 3",
   "language": "python",
   "name": "python3"
  },
  "language_info": {
   "codemirror_mode": {
    "name": "ipython",
    "version": 3
   },
   "file_extension": ".py",
   "mimetype": "text/x-python",
   "name": "python",
   "nbconvert_exporter": "python",
   "pygments_lexer": "ipython3",
   "version": "3.4.4"
  }
 },
 "nbformat": 4,
 "nbformat_minor": 0
}
